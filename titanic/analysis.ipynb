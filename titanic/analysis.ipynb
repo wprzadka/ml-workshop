{
  "nbformat": 4,
  "nbformat_minor": 0,
  "metadata": {
    "colab": {
      "name": "analysis.ipynb",
      "provenance": [],
      "collapsed_sections": []
    },
    "kernelspec": {
      "display_name": "Python 3",
      "name": "python3"
    },
    "language_info": {
      "name": "python"
    }
  },
  "cells": [
    {
      "cell_type": "code",
      "metadata": {
        "id": "7DcX6QAscXd4"
      },
      "source": [
        "import numpy as np\n",
        "import pandas as pd\n",
        "import matplotlib.pyplot as plt\n",
        "import seaborn as sns\n",
        "from sklearn import metrics\n",
        "import os\n"
      ],
      "execution_count": 3,
      "outputs": []
    },
    {
      "cell_type": "code",
      "metadata": {
        "id": "kPnHlCAxc15v"
      },
      "source": [
        "TITANIC_PATH = ''"
      ],
      "execution_count": 4,
      "outputs": []
    },
    {
      "cell_type": "code",
      "metadata": {
        "id": "1snuMo8hclSZ"
      },
      "source": [
        "def load_titanic_data(filename, titanic_path=TITANIC_PATH):\n",
        "    csv_path = os.path.join(titanic_path, filename)\n",
        "    return pd.read_csv(csv_path)"
      ],
      "execution_count": 5,
      "outputs": []
    },
    {
      "cell_type": "code",
      "metadata": {
        "id": "7hanxQDHcvzs"
      },
      "source": [
        "train_data = load_titanic_data(\"train.csv\")\n",
        "test_data = load_titanic_data(\"test.csv\")"
      ],
      "execution_count": 6,
      "outputs": []
    },
    {
      "cell_type": "code",
      "metadata": {
        "colab": {
          "base_uri": "https://localhost:8080/",
          "height": 206
        },
        "id": "ckTYGCfzc8Ne",
        "outputId": "aab30ddd-4ce1-4b88-bd9b-74b04a22787d"
      },
      "source": [
        "train_data.head()"
      ],
      "execution_count": 7,
      "outputs": [
        {
          "output_type": "execute_result",
          "data": {
            "text/html": [
              "<div>\n",
              "<style scoped>\n",
              "    .dataframe tbody tr th:only-of-type {\n",
              "        vertical-align: middle;\n",
              "    }\n",
              "\n",
              "    .dataframe tbody tr th {\n",
              "        vertical-align: top;\n",
              "    }\n",
              "\n",
              "    .dataframe thead th {\n",
              "        text-align: right;\n",
              "    }\n",
              "</style>\n",
              "<table border=\"1\" class=\"dataframe\">\n",
              "  <thead>\n",
              "    <tr style=\"text-align: right;\">\n",
              "      <th></th>\n",
              "      <th>PassengerId</th>\n",
              "      <th>Survived</th>\n",
              "      <th>Pclass</th>\n",
              "      <th>Name</th>\n",
              "      <th>Sex</th>\n",
              "      <th>Age</th>\n",
              "      <th>SibSp</th>\n",
              "      <th>Parch</th>\n",
              "      <th>Ticket</th>\n",
              "      <th>Fare</th>\n",
              "      <th>Cabin</th>\n",
              "      <th>Embarked</th>\n",
              "    </tr>\n",
              "  </thead>\n",
              "  <tbody>\n",
              "    <tr>\n",
              "      <th>0</th>\n",
              "      <td>1</td>\n",
              "      <td>0</td>\n",
              "      <td>3</td>\n",
              "      <td>Braund, Mr. Owen Harris</td>\n",
              "      <td>male</td>\n",
              "      <td>22.0</td>\n",
              "      <td>1</td>\n",
              "      <td>0</td>\n",
              "      <td>A/5 21171</td>\n",
              "      <td>7.2500</td>\n",
              "      <td>NaN</td>\n",
              "      <td>S</td>\n",
              "    </tr>\n",
              "    <tr>\n",
              "      <th>1</th>\n",
              "      <td>2</td>\n",
              "      <td>1</td>\n",
              "      <td>1</td>\n",
              "      <td>Cumings, Mrs. John Bradley (Florence Briggs Th...</td>\n",
              "      <td>female</td>\n",
              "      <td>38.0</td>\n",
              "      <td>1</td>\n",
              "      <td>0</td>\n",
              "      <td>PC 17599</td>\n",
              "      <td>71.2833</td>\n",
              "      <td>C85</td>\n",
              "      <td>C</td>\n",
              "    </tr>\n",
              "    <tr>\n",
              "      <th>2</th>\n",
              "      <td>3</td>\n",
              "      <td>1</td>\n",
              "      <td>3</td>\n",
              "      <td>Heikkinen, Miss. Laina</td>\n",
              "      <td>female</td>\n",
              "      <td>26.0</td>\n",
              "      <td>0</td>\n",
              "      <td>0</td>\n",
              "      <td>STON/O2. 3101282</td>\n",
              "      <td>7.9250</td>\n",
              "      <td>NaN</td>\n",
              "      <td>S</td>\n",
              "    </tr>\n",
              "    <tr>\n",
              "      <th>3</th>\n",
              "      <td>4</td>\n",
              "      <td>1</td>\n",
              "      <td>1</td>\n",
              "      <td>Futrelle, Mrs. Jacques Heath (Lily May Peel)</td>\n",
              "      <td>female</td>\n",
              "      <td>35.0</td>\n",
              "      <td>1</td>\n",
              "      <td>0</td>\n",
              "      <td>113803</td>\n",
              "      <td>53.1000</td>\n",
              "      <td>C123</td>\n",
              "      <td>S</td>\n",
              "    </tr>\n",
              "    <tr>\n",
              "      <th>4</th>\n",
              "      <td>5</td>\n",
              "      <td>0</td>\n",
              "      <td>3</td>\n",
              "      <td>Allen, Mr. William Henry</td>\n",
              "      <td>male</td>\n",
              "      <td>35.0</td>\n",
              "      <td>0</td>\n",
              "      <td>0</td>\n",
              "      <td>373450</td>\n",
              "      <td>8.0500</td>\n",
              "      <td>NaN</td>\n",
              "      <td>S</td>\n",
              "    </tr>\n",
              "  </tbody>\n",
              "</table>\n",
              "</div>"
            ],
            "text/plain": [
              "   PassengerId  Survived  Pclass  ...     Fare Cabin  Embarked\n",
              "0            1         0       3  ...   7.2500   NaN         S\n",
              "1            2         1       1  ...  71.2833   C85         C\n",
              "2            3         1       3  ...   7.9250   NaN         S\n",
              "3            4         1       1  ...  53.1000  C123         S\n",
              "4            5         0       3  ...   8.0500   NaN         S\n",
              "\n",
              "[5 rows x 12 columns]"
            ]
          },
          "metadata": {
            "tags": []
          },
          "execution_count": 7
        }
      ]
    },
    {
      "cell_type": "code",
      "metadata": {
        "colab": {
          "base_uri": "https://localhost:8080/",
          "height": 269
        },
        "id": "d4hMSkZZdDsd",
        "outputId": "1cce00ea-84c9-4061-cdf9-d2cc73344ae5"
      },
      "source": [
        "train_data.corr()"
      ],
      "execution_count": 8,
      "outputs": [
        {
          "output_type": "execute_result",
          "data": {
            "text/html": [
              "<div>\n",
              "<style scoped>\n",
              "    .dataframe tbody tr th:only-of-type {\n",
              "        vertical-align: middle;\n",
              "    }\n",
              "\n",
              "    .dataframe tbody tr th {\n",
              "        vertical-align: top;\n",
              "    }\n",
              "\n",
              "    .dataframe thead th {\n",
              "        text-align: right;\n",
              "    }\n",
              "</style>\n",
              "<table border=\"1\" class=\"dataframe\">\n",
              "  <thead>\n",
              "    <tr style=\"text-align: right;\">\n",
              "      <th></th>\n",
              "      <th>PassengerId</th>\n",
              "      <th>Survived</th>\n",
              "      <th>Pclass</th>\n",
              "      <th>Age</th>\n",
              "      <th>SibSp</th>\n",
              "      <th>Parch</th>\n",
              "      <th>Fare</th>\n",
              "    </tr>\n",
              "  </thead>\n",
              "  <tbody>\n",
              "    <tr>\n",
              "      <th>PassengerId</th>\n",
              "      <td>1.000000</td>\n",
              "      <td>-0.005007</td>\n",
              "      <td>-0.035144</td>\n",
              "      <td>0.036847</td>\n",
              "      <td>-0.057527</td>\n",
              "      <td>-0.001652</td>\n",
              "      <td>0.012658</td>\n",
              "    </tr>\n",
              "    <tr>\n",
              "      <th>Survived</th>\n",
              "      <td>-0.005007</td>\n",
              "      <td>1.000000</td>\n",
              "      <td>-0.338481</td>\n",
              "      <td>-0.077221</td>\n",
              "      <td>-0.035322</td>\n",
              "      <td>0.081629</td>\n",
              "      <td>0.257307</td>\n",
              "    </tr>\n",
              "    <tr>\n",
              "      <th>Pclass</th>\n",
              "      <td>-0.035144</td>\n",
              "      <td>-0.338481</td>\n",
              "      <td>1.000000</td>\n",
              "      <td>-0.369226</td>\n",
              "      <td>0.083081</td>\n",
              "      <td>0.018443</td>\n",
              "      <td>-0.549500</td>\n",
              "    </tr>\n",
              "    <tr>\n",
              "      <th>Age</th>\n",
              "      <td>0.036847</td>\n",
              "      <td>-0.077221</td>\n",
              "      <td>-0.369226</td>\n",
              "      <td>1.000000</td>\n",
              "      <td>-0.308247</td>\n",
              "      <td>-0.189119</td>\n",
              "      <td>0.096067</td>\n",
              "    </tr>\n",
              "    <tr>\n",
              "      <th>SibSp</th>\n",
              "      <td>-0.057527</td>\n",
              "      <td>-0.035322</td>\n",
              "      <td>0.083081</td>\n",
              "      <td>-0.308247</td>\n",
              "      <td>1.000000</td>\n",
              "      <td>0.414838</td>\n",
              "      <td>0.159651</td>\n",
              "    </tr>\n",
              "    <tr>\n",
              "      <th>Parch</th>\n",
              "      <td>-0.001652</td>\n",
              "      <td>0.081629</td>\n",
              "      <td>0.018443</td>\n",
              "      <td>-0.189119</td>\n",
              "      <td>0.414838</td>\n",
              "      <td>1.000000</td>\n",
              "      <td>0.216225</td>\n",
              "    </tr>\n",
              "    <tr>\n",
              "      <th>Fare</th>\n",
              "      <td>0.012658</td>\n",
              "      <td>0.257307</td>\n",
              "      <td>-0.549500</td>\n",
              "      <td>0.096067</td>\n",
              "      <td>0.159651</td>\n",
              "      <td>0.216225</td>\n",
              "      <td>1.000000</td>\n",
              "    </tr>\n",
              "  </tbody>\n",
              "</table>\n",
              "</div>"
            ],
            "text/plain": [
              "             PassengerId  Survived    Pclass  ...     SibSp     Parch      Fare\n",
              "PassengerId     1.000000 -0.005007 -0.035144  ... -0.057527 -0.001652  0.012658\n",
              "Survived       -0.005007  1.000000 -0.338481  ... -0.035322  0.081629  0.257307\n",
              "Pclass         -0.035144 -0.338481  1.000000  ...  0.083081  0.018443 -0.549500\n",
              "Age             0.036847 -0.077221 -0.369226  ... -0.308247 -0.189119  0.096067\n",
              "SibSp          -0.057527 -0.035322  0.083081  ...  1.000000  0.414838  0.159651\n",
              "Parch          -0.001652  0.081629  0.018443  ...  0.414838  1.000000  0.216225\n",
              "Fare            0.012658  0.257307 -0.549500  ...  0.159651  0.216225  1.000000\n",
              "\n",
              "[7 rows x 7 columns]"
            ]
          },
          "metadata": {
            "tags": []
          },
          "execution_count": 8
        }
      ]
    },
    {
      "cell_type": "code",
      "metadata": {
        "colab": {
          "base_uri": "https://localhost:8080/",
          "height": 337
        },
        "id": "--hwht0tdT1z",
        "outputId": "a574d655-61df-44a5-efbd-18b4c557a74c"
      },
      "source": [
        "sns.heatmap(train_data.corr(), cmap='viridis', annot=True)"
      ],
      "execution_count": 9,
      "outputs": [
        {
          "output_type": "execute_result",
          "data": {
            "text/plain": [
              "<matplotlib.axes._subplots.AxesSubplot at 0x7f378a24ead0>"
            ]
          },
          "metadata": {
            "tags": []
          },
          "execution_count": 9
        },
        {
          "output_type": "display_data",
          "data": {
            "image/png": "[encoded data removed]",
            "text/plain": [
              "<Figure size 432x288 with 2 Axes>"
            ]
          },
          "metadata": {
            "tags": [],
            "needs_background": "light"
          }
        }
      ]
    },
    {
      "cell_type": "code",
      "metadata": {
        "colab": {
          "base_uri": "https://localhost:8080/",
          "height": 337
        },
        "id": "vbz2a6URdXiv",
        "outputId": "3abedee2-4ac2-4960-ead6-fefc2f792cb8"
      },
      "source": [
        "sns.heatmap(test_data.corr(), cmap='viridis', annot=True)"
      ],
      "execution_count": 10,
      "outputs": [
        {
          "output_type": "execute_result",
          "data": {
            "text/plain": [
              "<matplotlib.axes._subplots.AxesSubplot at 0x7f3780d02650>"
            ]
          },
          "metadata": {
            "tags": []
          },
          "execution_count": 10
        },
        {
          "output_type": "display_data",
          "data": {
            "image/png": "[encoded data removed]",
            "text/plain": [
              "<Figure size 432x288 with 2 Axes>"
            ]
          },
          "metadata": {
            "tags": [],
            "needs_background": "light"
          }
        }
      ]
    },
    {
      "cell_type": "code",
      "metadata": {
        "colab": {
          "base_uri": "https://localhost:8080/"
        },
        "id": "_jckxXlHeipd",
        "outputId": "2c1948d1-3213-4bb1-fb34-464d23b281fb"
      },
      "source": [
        "data = pd.concat([train_data, test_data])\n",
        "data.describe"
      ],
      "execution_count": 11,
      "outputs": [
        {
          "output_type": "execute_result",
          "data": {
            "text/plain": [
              "<bound method NDFrame.describe of      PassengerId  Survived  Pclass  ...      Fare Cabin  Embarked\n",
              "0              1       0.0       3  ...    7.2500   NaN         S\n",
              "1              2       1.0       1  ...   71.2833   C85         C\n",
              "2              3       1.0       3  ...    7.9250   NaN         S\n",
              "3              4       1.0       1  ...   53.1000  C123         S\n",
              "4              5       0.0       3  ...    8.0500   NaN         S\n",
              "..           ...       ...     ...  ...       ...   ...       ...\n",
              "413         1305       NaN       3  ...    8.0500   NaN         S\n",
              "414         1306       NaN       1  ...  108.9000  C105         C\n",
              "415         1307       NaN       3  ...    7.2500   NaN         S\n",
              "416         1308       NaN       3  ...    8.0500   NaN         S\n",
              "417         1309       NaN       3  ...   22.3583   NaN         C\n",
              "\n",
              "[1309 rows x 12 columns]>"
            ]
          },
          "metadata": {
            "tags": []
          },
          "execution_count": 11
        }
      ]
    },
    {
      "cell_type": "code",
      "metadata": {
        "colab": {
          "base_uri": "https://localhost:8080/",
          "height": 404
        },
        "id": "KrjlcMHleFHn",
        "outputId": "6788b536-23a5-4abe-f627-ff2f0213c424"
      },
      "source": [
        "plt.boxplot(data['Age'][data['Age'].notnull()])"
      ],
      "execution_count": 12,
      "outputs": [
        {
          "output_type": "execute_result",
          "data": {
            "text/plain": [
              "{'boxes': [<matplotlib.lines.Line2D at 0x7f378070f710>],\n",
              " 'caps': [<matplotlib.lines.Line2D at 0x7f37806ca850>,\n",
              "  <matplotlib.lines.Line2D at 0x7f37807e52d0>],\n",
              " 'fliers': [<matplotlib.lines.Line2D at 0x7f378076a910>],\n",
              " 'means': [],\n",
              " 'medians': [<matplotlib.lines.Line2D at 0x7f378076a310>],\n",
              " 'whiskers': [<matplotlib.lines.Line2D at 0x7f378079e450>,\n",
              "  <matplotlib.lines.Line2D at 0x7f37806cad10>]}"
            ]
          },
          "metadata": {
            "tags": []
          },
          "execution_count": 12
        },
        {
          "output_type": "display_data",
          "data": {
            "image/png": "[encoded data removed]",
            "text/plain": [
              "<Figure size 432x288 with 1 Axes>"
            ]
          },
          "metadata": {
            "tags": [],
            "needs_background": "light"
          }
        }
      ]
    },
    {
      "cell_type": "code",
      "metadata": {
        "colab": {
          "base_uri": "https://localhost:8080/"
        },
        "id": "rrSA2llb7WeH",
        "outputId": "15ab332b-c009-4b51-9b65-642b875f009d"
      },
      "source": [
        "data['Cabin'].unique()"
      ],
      "execution_count": 13,
      "outputs": [
        {
          "output_type": "execute_result",
          "data": {
            "text/plain": [
              "array([nan, 'C85', 'C123', 'E46', 'G6', 'C103', 'D56', 'A6',\n",
              "       'C23 C25 C27', 'B78', 'D33', 'B30', 'C52', 'B28', 'C83', 'F33',\n",
              "       'F G73', 'E31', 'A5', 'D10 D12', 'D26', 'C110', 'B58 B60', 'E101',\n",
              "       'F E69', 'D47', 'B86', 'F2', 'C2', 'E33', 'B19', 'A7', 'C49', 'F4',\n",
              "       'A32', 'B4', 'B80', 'A31', 'D36', 'D15', 'C93', 'C78', 'D35',\n",
              "       'C87', 'B77', 'E67', 'B94', 'C125', 'C99', 'C118', 'D7', 'A19',\n",
              "       'B49', 'D', 'C22 C26', 'C106', 'C65', 'E36', 'C54',\n",
              "       'B57 B59 B63 B66', 'C7', 'E34', 'C32', 'B18', 'C124', 'C91', 'E40',\n",
              "       'T', 'C128', 'D37', 'B35', 'E50', 'C82', 'B96 B98', 'E10', 'E44',\n",
              "       'A34', 'C104', 'C111', 'C92', 'E38', 'D21', 'E12', 'E63', 'A14',\n",
              "       'B37', 'C30', 'D20', 'B79', 'E25', 'D46', 'B73', 'C95', 'B38',\n",
              "       'B39', 'B22', 'C86', 'C70', 'A16', 'C101', 'C68', 'A10', 'E68',\n",
              "       'B41', 'A20', 'D19', 'D50', 'D9', 'A23', 'B50', 'A26', 'D48',\n",
              "       'E58', 'C126', 'B71', 'B51 B53 B55', 'D49', 'B5', 'B20', 'F G63',\n",
              "       'C62 C64', 'E24', 'C90', 'C45', 'E8', 'B101', 'D45', 'C46', 'D30',\n",
              "       'E121', 'D11', 'E77', 'F38', 'B3', 'D6', 'B82 B84', 'D17', 'A36',\n",
              "       'B102', 'B69', 'E49', 'C47', 'D28', 'E17', 'A24', 'C50', 'B42',\n",
              "       'C148', 'B45', 'B36', 'A21', 'D34', 'A9', 'C31', 'B61', 'C53',\n",
              "       'D43', 'C130', 'C132', 'C55 C57', 'C116', 'F', 'A29', 'C6', 'C28',\n",
              "       'C51', 'C97', 'D22', 'B10', 'E45', 'E52', 'A11', 'B11', 'C80',\n",
              "       'C89', 'F E46', 'B26', 'F E57', 'A18', 'E60', 'E39 E41',\n",
              "       'B52 B54 B56', 'C39', 'B24', 'D40', 'D38', 'C105'], dtype=object)"
            ]
          },
          "metadata": {
            "tags": []
          },
          "execution_count": 13
        }
      ]
    },
    {
      "cell_type": "code",
      "metadata": {
        "id": "LWqCarrx8HLA"
      },
      "source": [
        "import re"
      ],
      "execution_count": 14,
      "outputs": []
    },
    {
      "cell_type": "code",
      "metadata": {
        "colab": {
          "base_uri": "https://localhost:8080/"
        },
        "id": "RuHuKQKA8B_l",
        "outputId": "7b4debfe-195f-4ed0-ab18-c0f859655f47"
      },
      "source": [
        "set([re.sub('\\d', '', v) for v in data['Cabin'].unique() if type(v) == str])"
      ],
      "execution_count": 15,
      "outputs": [
        {
          "output_type": "execute_result",
          "data": {
            "text/plain": [
              "{'A',\n",
              " 'B',\n",
              " 'B B',\n",
              " 'B B B',\n",
              " 'B B B B',\n",
              " 'C',\n",
              " 'C C',\n",
              " 'C C C',\n",
              " 'D',\n",
              " 'D D',\n",
              " 'E',\n",
              " 'E E',\n",
              " 'F',\n",
              " 'F E',\n",
              " 'F G',\n",
              " 'G',\n",
              " 'T'}"
            ]
          },
          "metadata": {
            "tags": []
          },
          "execution_count": 15
        }
      ]
    },
    {
      "cell_type": "code",
      "metadata": {
        "colab": {
          "base_uri": "https://localhost:8080/"
        },
        "id": "nh4yeXx-8gUb",
        "outputId": "18a4421c-990f-4779-e8c4-e28edbd5e2b9"
      },
      "source": [
        "data['Ticket'].unique()[:50]"
      ],
      "execution_count": 16,
      "outputs": [
        {
          "output_type": "execute_result",
          "data": {
            "text/plain": [
              "array(['A/5 21171', 'PC 17599', 'STON/O2. 3101282', '113803', '373450',\n",
              "       '330877', '17463', '349909', '347742', '237736', 'PP 9549',\n",
              "       '113783', 'A/5. 2151', '347082', '350406', '248706', '382652',\n",
              "       '244373', '345763', '2649', '239865', '248698', '330923', '113788',\n",
              "       '347077', '2631', '19950', '330959', '349216', 'PC 17601',\n",
              "       'PC 17569', '335677', 'C.A. 24579', 'PC 17604', '113789', '2677',\n",
              "       'A./5. 2152', '345764', '2651', '7546', '11668', '349253',\n",
              "       'SC/Paris 2123', '330958', 'S.C./A.4. 23567', '370371', '14311',\n",
              "       '2662', '349237', '3101295'], dtype=object)"
            ]
          },
          "metadata": {
            "tags": []
          },
          "execution_count": 16
        }
      ]
    },
    {
      "cell_type": "code",
      "metadata": {
        "colab": {
          "base_uri": "https://localhost:8080/"
        },
        "id": "IwwkecHZ8nzT",
        "outputId": "fb827d6b-8135-4074-c374-cf5ef93937e6"
      },
      "source": [
        "set([re.sub('\\d', '', v) for v in data['Ticket'].unique() if type(v) == str])"
      ],
      "execution_count": 17,
      "outputs": [
        {
          "output_type": "execute_result",
          "data": {
            "text/plain": [
              "{'',\n",
              " 'A. ',\n",
              " 'A. . ',\n",
              " 'A.. ',\n",
              " 'A./. ',\n",
              " 'A/ ',\n",
              " 'A/. ',\n",
              " 'A/S ',\n",
              " 'AQ/ ',\n",
              " 'AQ/. ',\n",
              " 'C ',\n",
              " 'C.A. ',\n",
              " 'C.A./SOTON ',\n",
              " 'CA ',\n",
              " 'CA. ',\n",
              " 'F.C. ',\n",
              " 'F.C.C. ',\n",
              " 'Fa ',\n",
              " 'LINE',\n",
              " 'LP ',\n",
              " 'P/PP ',\n",
              " 'PC ',\n",
              " 'PP ',\n",
              " 'S.C./A.. ',\n",
              " 'S.C./PARIS ',\n",
              " 'S.O./P.P. ',\n",
              " 'S.O.C. ',\n",
              " 'S.O.P. ',\n",
              " 'S.P. ',\n",
              " 'S.W./PP ',\n",
              " 'SC ',\n",
              " 'SC/A ',\n",
              " 'SC/A. ',\n",
              " 'SC/AH ',\n",
              " 'SC/AH Basle ',\n",
              " 'SC/PARIS ',\n",
              " 'SC/Paris ',\n",
              " 'SCO/W ',\n",
              " 'SO/C ',\n",
              " 'SOTON/O ',\n",
              " 'SOTON/O.Q. ',\n",
              " 'SOTON/OQ ',\n",
              " 'STON/O . ',\n",
              " 'STON/O. ',\n",
              " 'STON/OQ. ',\n",
              " 'SW/PP ',\n",
              " 'W./C. ',\n",
              " 'W.E.P. ',\n",
              " 'W/C ',\n",
              " 'WE/P '}"
            ]
          },
          "metadata": {
            "tags": []
          },
          "execution_count": 17
        }
      ]
    },
    {
      "cell_type": "code",
      "metadata": {
        "id": "0fGPRNLl9Ccg"
      },
      "source": [
        ""
      ],
      "execution_count": 17,
      "outputs": []
    },
    {
      "cell_type": "code",
      "metadata": {
        "colab": {
          "base_uri": "https://localhost:8080/"
        },
        "id": "ZU08iPlo9CZl",
        "outputId": "364c78b0-f5c5-4b2d-8624-f20dcc792511"
      },
      "source": [
        "set([v for v in data['Name'] if '.' in v])"
      ],
      "execution_count": 18,
      "outputs": [
        {
          "output_type": "execute_result",
          "data": {
            "text/plain": [
              "{'Roebling, Mr. Washington Augustus II',\n",
              " 'Assaf, Mr. Gerios',\n",
              " 'Yasbeck, Mrs. Antoni (Selini Alexander)',\n",
              " 'Carlsson, Mr. Carl Robert',\n",
              " 'Kink-Heilmann, Miss. Luise Gretchen',\n",
              " 'Collett, Mr. Sidney C Stuart',\n",
              " 'White, Mr. Richard Frasar',\n",
              " 'Yasbeck, Mr. Antoni',\n",
              " 'Baxter, Mrs. James (Helene DeLaudeniere Chaput)',\n",
              " 'Sandstrom, Miss. Beatrice Irene',\n",
              " 'Gracie, Col. Archibald IV',\n",
              " 'Loring, Mr. Joseph Holland',\n",
              " 'Risien, Mrs. Samuel (Emma)',\n",
              " 'Ekstrom, Mr. Johan',\n",
              " 'Olsen, Mr. Ole Martin',\n",
              " 'Sage, Master. Thomas Henry',\n",
              " 'Backstrom, Mr. Karl Alfred',\n",
              " 'Johnson, Mrs. Oscar W (Elisabeth Vilhelmina Berg)',\n",
              " 'Lithman, Mr. Simon',\n",
              " 'Quick, Miss. Winifred Vera',\n",
              " 'Ilieff, Mr. Ylio',\n",
              " 'van Billiard, Mr. Austin Blyler',\n",
              " 'Candee, Mrs. Edward (Helen Churchill Hungerford)',\n",
              " 'Carr, Miss. Jeannie',\n",
              " 'Novel, Mr. Mansouer',\n",
              " 'Gaskell, Mr. Alfred',\n",
              " 'Stewart, Mr. Albert A',\n",
              " 'Skoog, Miss. Mabel',\n",
              " 'Lobb, Mr. William Arthur',\n",
              " 'Angle, Mrs. William A (Florence \"Mary\" Agnes Hughes)',\n",
              " 'Khalil, Mr. Betros',\n",
              " 'Oxenham, Mr. Percy Thomas',\n",
              " 'Lovell, Mr. John Hall (\"Henry\")',\n",
              " 'Matinoff, Mr. Nicola',\n",
              " 'Betros, Master. Seman',\n",
              " 'Jonkoff, Mr. Lalio',\n",
              " 'Reynolds, Mr. Harold J',\n",
              " 'Robbins, Mr. Victor',\n",
              " 'Morley, Mr. Henry Samuel (\"Mr Henry Marshall\")',\n",
              " 'Appleton, Mrs. Edward Dale (Charlotte Lamson)',\n",
              " 'Zabour, Miss. Thamine',\n",
              " 'Andrews, Miss. Kornelia Theodosia',\n",
              " 'Hirvonen, Miss. Hildur E',\n",
              " 'Olsen, Mr. Karl Siegwart Andreas',\n",
              " 'Spinner, Mr. Henry John',\n",
              " 'Pulbaum, Mr. Franz',\n",
              " 'Kimball, Mr. Edwin Nelson Jr',\n",
              " 'Katavelas, Mr. Vassilios (Catavelas Vassilios\")\"',\n",
              " 'Brown, Miss. Edith Eileen',\n",
              " 'McGowan, Miss. Katherine',\n",
              " 'Collyer, Mrs. Harvey (Charlotte Annie Tate)',\n",
              " 'Mack, Mrs. (Mary)',\n",
              " 'Mellinger, Miss. Madeleine Violet',\n",
              " 'Lang, Mr. Fang',\n",
              " 'Duff Gordon, Sir. Cosmo Edmund (\"Mr Morgan\")',\n",
              " 'Whabee, Mrs. George Joseph (Shawneene Abi-Saab)',\n",
              " 'Herman, Miss. Alice',\n",
              " 'Moran, Mr. James',\n",
              " 'Dennis, Mr. William',\n",
              " 'Giles, Mr. Edgar',\n",
              " 'Strom, Miss. Telma Matilda',\n",
              " 'Dyker, Mr. Adolf Fredrik',\n",
              " 'Palsson, Master. Gosta Leonard',\n",
              " 'Corn, Mr. Harry',\n",
              " 'Soholt, Mr. Peter Andreas Lauritz Andersen',\n",
              " 'Touma, Master. Georges Youssef',\n",
              " 'Stanley, Mr. Edward Roland',\n",
              " 'Cardeza, Mr. Thomas Drake Martinez',\n",
              " 'Panula, Master. Urho Abraham',\n",
              " 'Shellard, Mr. Frederick William',\n",
              " 'Nilsson, Mr. August Ferdinand',\n",
              " 'Colbert, Mr. Patrick',\n",
              " 'Kantor, Mr. Sinai',\n",
              " 'Sadowitz, Mr. Harry',\n",
              " 'Jansson, Mr. Carl Olof',\n",
              " 'Berriman, Mr. William John',\n",
              " 'Denbury, Mr. Herbert',\n",
              " 'Sloper, Mr. William Thompson',\n",
              " 'Wilkes, Mrs. James (Ellen Needs)',\n",
              " 'Webber, Mr. James',\n",
              " 'Lahoud, Mr. Sarkis',\n",
              " 'Perkin, Mr. John Henry',\n",
              " 'Ware, Mr. John James',\n",
              " 'Douglas, Mr. Walter Donald',\n",
              " 'Hanna, Mr. Mansour',\n",
              " 'Sivola, Mr. Antti Wilhelm',\n",
              " 'Renouf, Mrs. Peter Henry (Lillian Jefferys)',\n",
              " 'Hogeboom, Mrs. John C (Anna Andrews)',\n",
              " 'Peduzzi, Mr. Joseph',\n",
              " 'Sadlier, Mr. Matthew',\n",
              " 'Murdlin, Mr. Joseph',\n",
              " 'Veal, Mr. James',\n",
              " 'Johansson, Mr. Erik',\n",
              " 'Niskanen, Mr. Juha',\n",
              " 'Bourke, Mrs. John (Catherine)',\n",
              " 'Barah, Mr. Hanna Assi',\n",
              " 'Zakarian, Mr. Ortin',\n",
              " 'Dika, Mr. Mirko',\n",
              " 'Goldsmith, Mrs. Frank John (Emily Alice Brown)',\n",
              " \"O'Connell, Mr. Patrick D\",\n",
              " 'Wick, Mr. George Dennick',\n",
              " 'Lundstrom, Mr. Thure Edvin',\n",
              " 'Haas, Miss. Aloisia',\n",
              " 'Plotcharsky, Mr. Vasil',\n",
              " 'Laroche, Mr. Joseph Philippe Lemercier',\n",
              " 'Touma, Mrs. Darwis (Hanne Youssef Razi)',\n",
              " 'McCoy, Mr. Bernard',\n",
              " 'Corey, Mrs. Percy C (Mary Phyllis Elizabeth Miller)',\n",
              " 'Levy, Mr. Rene Jacques',\n",
              " 'Moussa, Mrs. (Mantoura Boulos)',\n",
              " 'Augustsson, Mr. Albert',\n",
              " 'Hansen, Mr. Henry Damsgaard',\n",
              " 'Petersen, Mr. Marius',\n",
              " 'Barton, Mr. David John',\n",
              " 'Petterson, Mr. Johan Emil',\n",
              " 'Harper, Rev. John',\n",
              " 'Burns, Miss. Mary Delia',\n",
              " 'Assam, Mr. Ali',\n",
              " 'Francatelli, Miss. Laura Mabel',\n",
              " 'Murphy, Miss. Katherine \"Kate\"',\n",
              " 'McCrae, Mr. Arthur Gordon',\n",
              " 'Jussila, Miss. Katriina',\n",
              " 'Nicola-Yarred, Master. Elias',\n",
              " 'Weir, Col. John',\n",
              " 'Hansen, Mr. Henrik Juul',\n",
              " 'Drew, Mrs. James Vivian (Lulu Thorne Christian)',\n",
              " 'Flegenheim, Mrs. Alfred (Antoinette)',\n",
              " 'Mahon, Mr. John',\n",
              " 'Baxter, Mr. Quigg Edmond',\n",
              " 'Cor, Mr. Liudevit',\n",
              " 'Roth, Miss. Sarah A',\n",
              " 'Shelley, Mrs. William (Imanita Parrish Hall)',\n",
              " 'Willey, Mr. Edward',\n",
              " \"O'Sullivan, Miss. Bridget Mary\",\n",
              " 'Kassem, Mr. Fared',\n",
              " 'Hodges, Mr. Henry Price',\n",
              " 'Andersson, Mr. Anders Johan',\n",
              " 'Howard, Miss. May Elizabeth',\n",
              " 'Dyker, Mrs. Adolf Fredrik (Anna Elisabeth Judith Andersson)',\n",
              " 'Niklasson, Mr. Samuel',\n",
              " 'Braund, Mr. Owen Harris',\n",
              " 'Ryerson, Mr. Arthur Larned',\n",
              " 'Warren, Mr. Frank Manley',\n",
              " 'Harmer, Mr. Abraham (David Lishin)',\n",
              " 'Jonsson, Mr. Nils Hilding',\n",
              " 'Mineff, Mr. Ivan',\n",
              " 'Fynney, Mr. Joseph J',\n",
              " 'Strom, Mrs. Wilhelm (Elna Matilda Persson)',\n",
              " 'Schabert, Mrs. Paul (Emma Mock)',\n",
              " 'Mitkoff, Mr. Mito',\n",
              " 'Aronsson, Mr. Ernst Axel Algot',\n",
              " 'Dodge, Mrs. Washington (Ruth Vidaver)',\n",
              " 'Porter, Mr. Walter Chamberlain',\n",
              " 'LeRoy, Miss. Bertha',\n",
              " 'Sawyer, Mr. Frederick Charles',\n",
              " 'Brobeck, Mr. Karl Rudolf',\n",
              " 'Silven, Miss. Lyyli Karoliina',\n",
              " 'Olsson, Miss. Elina',\n",
              " 'Saad, Mr. Khalil',\n",
              " 'Coutts, Master. William Loch \"William\"',\n",
              " 'Karun, Miss. Manca',\n",
              " 'Cribb, Mr. John Hatfield',\n",
              " 'Jacobsohn, Mrs. Sidney Samuel (Amy Frances Christy)',\n",
              " 'Larsson, Mr. August Viktor',\n",
              " 'Gillespie, Mr. William Henry',\n",
              " 'Abbott, Mrs. Stanton (Rosa Hunt)',\n",
              " 'Minahan, Miss. Daisy E',\n",
              " 'Bjorklund, Mr. Ernst Herbert',\n",
              " 'O\\'Brien, Mrs. Thomas (Johanna \"Hannah\" Godfrey)',\n",
              " 'Stankovic, Mr. Ivan',\n",
              " 'Maybery, Mr. Frank Hubert',\n",
              " 'Duran y More, Miss. Florentina',\n",
              " 'Homer, Mr. Harry (\"Mr E Haven\")',\n",
              " 'Madill, Miss. Georgette Alexandra',\n",
              " 'Wilhelms, Mr. Charles',\n",
              " 'Meo, Mr. Alfonzo',\n",
              " 'Cardeza, Mrs. James Warburton Martinez (Charlotte Wardle Drake)',\n",
              " 'Lines, Mrs. Ernest H (Elizabeth Lindsey James)',\n",
              " 'Riihivouri, Miss. Susanna Juhantytar Sanni\"\"',\n",
              " 'Mamee, Mr. Hanna',\n",
              " 'Baclini, Mrs. Solomon (Latifa Qurban)',\n",
              " 'Lefebre, Master. Henry Forbes',\n",
              " 'Harder, Mr. George Achilles',\n",
              " 'Buckley, Miss. Katherine',\n",
              " 'Fleming, Miss. Honora',\n",
              " 'Colley, Mr. Edward Pomeroy',\n",
              " 'Hamalainen, Master. Viljo',\n",
              " 'Hoyt, Mr. William Fisher',\n",
              " 'Robert, Mrs. Edward Scott (Elisabeth Walton McMillan)',\n",
              " 'Nilsson, Miss. Berta Olivia',\n",
              " 'Moran, Miss. Bertha',\n",
              " 'Balkic, Mr. Cerin',\n",
              " 'Danoff, Mr. Yoto',\n",
              " 'Tornquist, Mr. William Henry',\n",
              " 'Givard, Mr. Hans Kristensen',\n",
              " 'Crosby, Capt. Edward Gifford',\n",
              " 'Paulner, Mr. Uscher',\n",
              " 'Sutton, Mr. Frederick',\n",
              " 'Meyer, Mr. August',\n",
              " 'Johansson, Mr. Karl Johan',\n",
              " 'Rice, Master. George Hugh',\n",
              " 'Petroff, Mr. Nedelio',\n",
              " 'Ivanoff, Mr. Kanio',\n",
              " 'Caldwell, Master. Alden Gates',\n",
              " 'Chambers, Mrs. Norman Campbell (Bertha Griggs)',\n",
              " 'Moubarek, Master. Halim Gonios (\"William George\")',\n",
              " 'Bowerman, Miss. Elsie Edith',\n",
              " 'Nenkoff, Mr. Christo',\n",
              " 'Rothschild, Mrs. Martin (Elizabeth L. Barrett)',\n",
              " 'Vander Planke, Mrs. Julius (Emelia Maria Vandemoortele)',\n",
              " 'Boulos, Mr. Hanna',\n",
              " 'Baccos, Mr. Raffull',\n",
              " 'Allison, Mrs. Hudson J C (Bessie Waldo Daniels)',\n",
              " 'Karnes, Mrs. J Frank (Claire Bennett)',\n",
              " 'Chibnall, Mrs. (Edith Martha Bowerman)',\n",
              " 'Allum, Mr. Owen George',\n",
              " 'Hagardon, Miss. Kate',\n",
              " 'Gavey, Mr. Lawrence',\n",
              " 'Johansson, Mr. Gustaf Joel',\n",
              " 'Isham, Miss. Ann Elizabeth',\n",
              " 'de Pelsmaeker, Mr. Alfons',\n",
              " 'Panula, Mr. Ernesti Arvid',\n",
              " 'Nilsson, Miss. Helmina Josefina',\n",
              " 'Cairns, Mr. Alexander',\n",
              " 'Silverthorne, Mr. Spencer Victor',\n",
              " 'Nakid, Mrs. Said (Waika Mary\" Mowad)\"',\n",
              " 'Mernagh, Mr. Robert',\n",
              " 'Romaine, Mr. Charles Hallace (\"Mr C Rolmane\")',\n",
              " 'Risien, Mr. Samuel Beard',\n",
              " 'Peter, Master. Michael J',\n",
              " 'Young, Miss. Marie Grice',\n",
              " 'del Carlo, Mr. Sebastiano',\n",
              " 'Chapman, Mr. John Henry',\n",
              " 'Shine, Miss. Ellen Natalia',\n",
              " 'Holthen, Mr. Johan Martin',\n",
              " 'Wiklund, Mr. Jakob Alfred',\n",
              " 'Richards, Master. George Sibley',\n",
              " 'Goodwin, Miss. Jessie Allis',\n",
              " 'Toufik, Mr. Nakli',\n",
              " 'Spector, Mr. Woolf',\n",
              " 'Wirz, Mr. Albert',\n",
              " 'Skoog, Master. Harald',\n",
              " 'Astor, Col. John Jacob',\n",
              " 'Hee, Mr. Ling',\n",
              " 'Mayne, Mlle. Berthe Antonine (\"Mrs de Villiers\")',\n",
              " 'Peltomaki, Mr. Nikolai Johannes',\n",
              " 'Coelho, Mr. Domingos Fernandeo',\n",
              " 'Hegarty, Miss. Hanora \"Nora\"',\n",
              " 'Jensen, Mr. Hans Peder',\n",
              " 'West, Mr. Edwy Arthur',\n",
              " 'Snyder, Mr. John Pillsbury',\n",
              " 'Mallet, Mrs. Albert (Antoinette Magnin)',\n",
              " 'Hays, Mr. Charles Melville',\n",
              " 'Mullens, Miss. Katherine \"Katie\"',\n",
              " 'Duran y More, Miss. Asuncion',\n",
              " 'Keeping, Mr. Edwin',\n",
              " 'Newell, Miss. Madeleine',\n",
              " 'Braund, Mr. Lewis Richard',\n",
              " 'Parrish, Mrs. (Lutie Davis)',\n",
              " 'Goncalves, Mr. Manuel Estanslas',\n",
              " 'Celotti, Mr. Francesco',\n",
              " 'Sjoblom, Miss. Anna Sofia',\n",
              " 'Rowe, Mr. Alfred G',\n",
              " 'Moor, Mrs. (Beila)',\n",
              " 'Sage, Mrs. John (Annie Bullen)',\n",
              " 'McCrie, Mr. James Matthew',\n",
              " 'Dean, Master. Bertram Vere',\n",
              " 'Longley, Miss. Gretchen Fiske',\n",
              " 'Newell, Mr. Arthur Webster',\n",
              " 'Berglund, Mr. Karl Ivar Sven',\n",
              " 'Ostby, Miss. Helene Ragnhild',\n",
              " 'Nieminen, Miss. Manta Josefina',\n",
              " 'Lockyer, Mr. Edward',\n",
              " 'Yrois, Miss. Henriette (\"Mrs Harbeck\")',\n",
              " 'Hold, Mr. Stephen',\n",
              " 'Chevre, Mr. Paul Romaine',\n",
              " 'Ware, Mrs. John James (Florence Louise Long)',\n",
              " 'Drew, Master. Marshall Brines',\n",
              " 'Thayer, Mrs. John Borland (Marian Longstreth Morris)',\n",
              " 'Sage, Miss. Dorothy Edith \"Dolly\"',\n",
              " 'Adahl, Mr. Mauritz Nils Martin',\n",
              " 'van Billiard, Master. Walter John',\n",
              " 'Kilgannon, Mr. Thomas J',\n",
              " 'Asplund, Master. Clarence Gustaf Hugo',\n",
              " 'Vestrom, Miss. Hulda Amanda Adolfina',\n",
              " 'Hendekovic, Mr. Ignjac',\n",
              " 'Sincock, Miss. Maude',\n",
              " 'Quick, Mrs. Frederick Charles (Jane Richards)',\n",
              " 'Jefferys, Mr. Clifford Thomas',\n",
              " 'Torfa, Mr. Assad',\n",
              " 'Meyer, Mrs. Edgar Joseph (Leila Saks)',\n",
              " 'Compton, Mrs. Alexander Taylor (Mary Eliza Ingersoll)',\n",
              " 'Shaughnessy, Mr. Patrick',\n",
              " 'Daher, Mr. Shedid',\n",
              " 'Drazenoic, Mr. Jozef',\n",
              " 'Windelov, Mr. Einar',\n",
              " 'Stanley, Miss. Amy Zillah Elsie',\n",
              " 'Moraweck, Dr. Ernest',\n",
              " 'Brown, Mrs. Thomas William Solomon (Elizabeth Catherine Ford)',\n",
              " 'Carrau, Mr. Jose Pedro',\n",
              " 'Johnson, Miss. Eleanor Ileen',\n",
              " 'Astor, Mrs. John Jacob (Madeleine Talmadge Force)',\n",
              " 'Myhrman, Mr. Pehr Fabian Oliver Malkolm',\n",
              " 'Vande Velde, Mr. Johannes Joseph',\n",
              " 'Elsbury, Mr. William James',\n",
              " 'Hood, Mr. Ambrose Jr',\n",
              " 'Nysten, Miss. Anna Sofia',\n",
              " 'Mangiavacchi, Mr. Serafino Emilio',\n",
              " 'Taylor, Mrs. Elmer Zebley (Juliet Cummins Wright)',\n",
              " 'Cacic, Miss. Marija',\n",
              " 'Johansson, Mr. Nils',\n",
              " 'Brocklebank, Mr. William Alfred',\n",
              " 'Smith, Mr. Richard William',\n",
              " 'Coutts, Master. Eden Leslie \"Neville\"',\n",
              " 'Faunthorpe, Mrs. Lizzie (Elizabeth Anne Wilkinson)',\n",
              " 'Ford, Mr. Arthur',\n",
              " 'Futrelle, Mrs. Jacques Heath (Lily May Peel)',\n",
              " 'Chaffee, Mrs. Herbert Fuller (Carrie Constance Toogood)',\n",
              " 'Green, Mr. George Henry',\n",
              " 'Davidson, Mr. Thornton',\n",
              " 'Crosby, Miss. Harriet R',\n",
              " 'Boulos, Miss. Nourelain',\n",
              " 'Birkeland, Mr. Hans Martin Monsen',\n",
              " 'Malachard, Mr. Noel',\n",
              " 'Silvey, Mrs. William Baird (Alice Munger)',\n",
              " 'Guest, Mr. Robert',\n",
              " 'Carbines, Mr. William',\n",
              " 'McCormack, Mr. Thomas Joseph',\n",
              " 'Allison, Miss. Helen Loraine',\n",
              " 'Harbeck, Mr. William H',\n",
              " 'Sage, Mr. George John Jr',\n",
              " 'Frauenthal, Dr. Henry William',\n",
              " 'Boulos, Master. Akar',\n",
              " 'Pedersen, Mr. Olaf',\n",
              " 'Oreskovic, Mr. Luka',\n",
              " 'Vander Planke, Miss. Augusta Maria',\n",
              " 'Leitch, Miss. Jessie Wills',\n",
              " 'Heikkinen, Miss. Laina',\n",
              " 'Doling, Mrs. John T (Ada Julia Bone)',\n",
              " 'Carter, Mrs. William Ernest (Lucile Polk)',\n",
              " 'Healy, Miss. Hanora \"Nora\"',\n",
              " 'Van Impe, Miss. Catharina',\n",
              " 'Samaan, Mr. Elias',\n",
              " 'Lane, Mr. Patrick',\n",
              " \"O'Connor, Mr. Patrick\",\n",
              " 'Svensson, Mr. Olof',\n",
              " 'Andersson, Miss. Erna Alexandra',\n",
              " 'Smith, Mr. James Clinch',\n",
              " 'Navratil, Master. Edmond Roger',\n",
              " 'Moore, Mr. Leonard Charles',\n",
              " 'Leeni, Mr. Fahim (\"Philip Zenni\")',\n",
              " 'Bowen, Mr. David John \"Dai\"',\n",
              " 'Davies, Mr. Evan',\n",
              " 'Turpin, Mrs. William John Robert (Dorothy Ann Wonnacott)',\n",
              " 'Marechal, Mr. Pierre',\n",
              " 'Laroche, Miss. Louise',\n",
              " 'Kraeff, Mr. Theodor',\n",
              " 'Landergren, Miss. Aurora Adelia',\n",
              " 'Quick, Miss. Phyllis May',\n",
              " 'Sage, Master. William Henry',\n",
              " 'Wells, Master. Ralph Lester',\n",
              " 'Penasco y Castellana, Mr. Victor de Satode',\n",
              " 'Shutes, Miss. Elizabeth W',\n",
              " 'Johnston, Mrs. Andrew G (Elizabeth Lily\" Watson)\"',\n",
              " 'Byles, Rev. Thomas Roussel Davids',\n",
              " 'Nesson, Mr. Israel',\n",
              " 'Smith, Mr. Lucien Philip',\n",
              " 'Dulles, Mr. William Crothers',\n",
              " 'Padro y Manent, Mr. Julian',\n",
              " 'Rogers, Mr. Reginald Harry',\n",
              " 'Foreman, Mr. Benjamin Laventall',\n",
              " 'Bradley, Miss. Bridget Delia',\n",
              " 'Asplund, Mr. Carl Oscar Vilhelm Gustafsson',\n",
              " 'Larsson, Mr. Bengt Edvin',\n",
              " 'Ryan, Mr. Patrick',\n",
              " 'Fortune, Mr. Charles Alexander',\n",
              " 'Masselmani, Mrs. Fatima',\n",
              " 'McCoy, Miss. Agnes',\n",
              " 'Frolicher-Stehli, Mr. Maxmillian',\n",
              " 'Ford, Miss. Doolina Margaret \"Daisy\"',\n",
              " 'Caldwell, Mr. Albert Francis',\n",
              " 'Peacock, Master. Alfred Edward',\n",
              " 'Gallagher, Mr. Martin',\n",
              " 'Banfield, Mr. Frederick James',\n",
              " 'Mulvihill, Miss. Bertha E',\n",
              " 'Oreskovic, Miss. Jelka',\n",
              " 'Asplund, Master. Edvin Rojj Felix',\n",
              " 'Ilmakangas, Miss. Ida Livija',\n",
              " 'Thayer, Mr. John Borland Jr',\n",
              " 'Coxon, Mr. Daniel',\n",
              " 'Portaluppi, Mr. Emilio Ilario Giuseppe',\n",
              " 'Blank, Mr. Henry',\n",
              " 'Dowdell, Miss. Elizabeth',\n",
              " 'Ball, Mrs. (Ada E Hall)',\n",
              " 'Doyle, Miss. Elizabeth',\n",
              " 'Mannion, Miss. Margareth',\n",
              " 'Ford, Mr. William Neal',\n",
              " 'Mahon, Miss. Bridget Delia',\n",
              " 'Kent, Mr. Edward Austin',\n",
              " 'Klaber, Mr. Herman',\n",
              " 'Elias, Mr. Joseph',\n",
              " 'Turkula, Mrs. (Hedwig)',\n",
              " 'Doharr, Mr. Tannous',\n",
              " 'Kenyon, Mrs. Frederick R (Marion)',\n",
              " 'Rice, Mrs. William (Margaret Norton)',\n",
              " 'Ovies y Rodriguez, Mr. Servando',\n",
              " 'Pasic, Mr. Jakob',\n",
              " 'Uruchurtu, Don. Manuel E',\n",
              " 'Nasr, Mr. Mustafa',\n",
              " 'Holm, Mr. John Fredrik Alexander',\n",
              " 'Minahan, Dr. William Edward',\n",
              " 'Foley, Mr. Joseph',\n",
              " 'Lemore, Mrs. (Amelia Milley)',\n",
              " 'Cumings, Mrs. John Bradley (Florence Briggs Thayer)',\n",
              " 'Graham, Miss. Margaret Edith',\n",
              " 'Widener, Mrs. George Dunton (Eleanor Elkins)',\n",
              " 'Brewe, Dr. Arthur Jackson',\n",
              " 'Saundercock, Mr. William Henry',\n",
              " 'Pengelly, Mr. Frederick William',\n",
              " 'Wilson, Miss. Helen Alice',\n",
              " 'Bishop, Mrs. Dickinson H (Helen Walton)',\n",
              " 'Chapman, Mr. Charles Henry',\n",
              " 'Flynn, Mr. James',\n",
              " 'Tobin, Mr. Roger',\n",
              " 'Saalfeld, Mr. Adolphe',\n",
              " 'Hart, Mr. Benjamin',\n",
              " 'Pears, Mr. Thomas Clinton',\n",
              " 'Nicola-Yarred, Miss. Jamila',\n",
              " 'Navratil, Master. Michel M',\n",
              " 'Palsson, Miss. Stina Viola',\n",
              " 'Hocking, Mr. Richard George',\n",
              " 'Daniels, Miss. Sarah',\n",
              " 'Taussig, Mrs. Emil (Tillie Mandelbaum)',\n",
              " 'Lievens, Mr. Rene Aime',\n",
              " 'Aldworth, Mr. Charles Augustus',\n",
              " 'Fortune, Miss. Mabel Helen',\n",
              " 'de Brito, Mr. Jose Joaquim',\n",
              " 'Gustafsson, Mr. Johan Birger',\n",
              " 'Parr, Mr. William Henry Marsh',\n",
              " 'Staneff, Mr. Ivan',\n",
              " 'Davison, Mrs. Thomas Henry (Mary E Finck)',\n",
              " 'Deacon, Mr. Percy William',\n",
              " 'Kiernan, Mr. Philip',\n",
              " 'Wheadon, Mr. Edward H',\n",
              " 'Christy, Miss. Julie Rachel',\n",
              " 'Salkjelsvik, Miss. Anna Kristine',\n",
              " 'Goldsmith, Mr. Frank John',\n",
              " 'Dodge, Dr. Washington',\n",
              " 'Spencer, Mr. William Augustus',\n",
              " 'Fox, Mr. Patrick',\n",
              " 'Ward, Miss. Anna',\n",
              " 'Sage, Miss. Stella Anna',\n",
              " 'Vande Walle, Mr. Nestor Cyriel',\n",
              " 'Attalah, Mr. Sleiman',\n",
              " 'Ryerson, Mrs. Arthur Larned (Emily Maria Borie)',\n",
              " 'Willard, Miss. Constance',\n",
              " 'Van Impe, Mrs. Jean Baptiste (Rosalie Paula Govaert)',\n",
              " 'Peruschitz, Rev. Joseph Maria',\n",
              " 'Cann, Mr. Ernest Charles',\n",
              " 'Penasco y Castellana, Mrs. Victor de Satode (Maria Josefa Perez de Soto y Vallejo)',\n",
              " 'Potter, Mrs. Thomas Jr (Lily Alexenia Wilson)',\n",
              " 'Crease, Mr. Ernest James',\n",
              " 'MacKay, Mr. George William',\n",
              " 'Faunthorpe, Mr. Harry',\n",
              " 'Maguire, Mr. John Edward',\n",
              " 'van Melkebeke, Mr. Philemon',\n",
              " 'Allison, Master. Hudson Trevor',\n",
              " 'Chapman, Mrs. John Henry (Sara Elizabeth Lawry)',\n",
              " \"McNamee, Mrs. Neal (Eileen O'Leary)\",\n",
              " 'Bradley, Mr. George (\"George Arthur Brayton\")',\n",
              " 'Salander, Mr. Karl Johan',\n",
              " 'Holverson, Mrs. Alexander Oskar (Mary Aline Towner)',\n",
              " 'Hippach, Mrs. Louis Albert (Ida Sophia Fischer)',\n",
              " 'Hale, Mr. Reginald',\n",
              " 'Peters, Miss. Katie',\n",
              " 'Cacic, Mr. Jego Grga',\n",
              " 'Barbara, Miss. Saiide',\n",
              " 'Davies, Mr. John Samuel',\n",
              " 'Mellinger, Mrs. (Elizabeth Anne Maidment)',\n",
              " 'Widener, Mr. Harry Elkins',\n",
              " 'Vovk, Mr. Janko',\n",
              " 'Karaic, Mr. Milan',\n",
              " 'Nye, Mrs. (Elizabeth Ramell)',\n",
              " 'Sjostedt, Mr. Ernst Adolf',\n",
              " 'Heininen, Miss. Wendla Maria',\n",
              " 'Norman, Mr. Robert Douglas',\n",
              " 'Dean, Mrs. Bertram (Eva Georgetta Light)',\n",
              " 'Davison, Mr. Thomas Henry',\n",
              " 'Toomey, Miss. Ellen',\n",
              " 'Cor, Mr. Bartol',\n",
              " 'Dantcheff, Mr. Ristiu',\n",
              " 'Fortune, Mrs. Mark (Mary McDougald)',\n",
              " 'Leyson, Mr. Robert William Norman',\n",
              " 'Smith, Mr. Thomas',\n",
              " 'Tucker, Mr. Gilbert Milligan Jr',\n",
              " 'Carlsson, Mr. Frans Olof',\n",
              " 'Dahlberg, Miss. Gerda Ulrika',\n",
              " 'Stead, Mr. William Thomas',\n",
              " 'Evans, Miss. Edith Corse',\n",
              " 'Lefebre, Miss. Mathilde',\n",
              " 'Endres, Miss. Caroline Louise',\n",
              " 'Elias, Mr. Dibo',\n",
              " 'Becker, Miss. Ruth Elizabeth',\n",
              " 'Straus, Mr. Isidor',\n",
              " 'Bishop, Mr. Dickinson H',\n",
              " 'Phillips, Miss. Kate Florence (\"Mrs Kate Louise Phillips Marshall\")',\n",
              " 'Lingane, Mr. John',\n",
              " 'Braf, Miss. Elin Ester Maria',\n",
              " 'Icard, Miss. Amelie',\n",
              " 'Asplund, Master. Filip Oscar',\n",
              " 'McGovern, Miss. Mary',\n",
              " 'Jarvis, Mr. John Denzil',\n",
              " 'Newsom, Miss. Helen Monypeny',\n",
              " 'Skoog, Mr. Wilhelm',\n",
              " 'Alexander, Mr. William',\n",
              " 'Sage, Mr. Douglas Bullen',\n",
              " 'Strandberg, Miss. Ida Sofia',\n",
              " 'Duquemin, Mr. Joseph',\n",
              " 'Pettersson, Miss. Ellen Natalia',\n",
              " 'Mallet, Master. Andre',\n",
              " 'Hagland, Mr. Ingvald Olai Olsen',\n",
              " 'Panula, Mr. Jaako Arnold',\n",
              " 'Ali, Mr. Ahmed',\n",
              " 'Garside, Miss. Ethel',\n",
              " 'Sharp, Mr. Percival James R',\n",
              " 'Simmons, Mr. John',\n",
              " 'Panula, Master. Eino Viljami',\n",
              " 'Dakic, Mr. Branko',\n",
              " 'Coleff, Mr. Peju',\n",
              " 'Guggenheim, Mr. Benjamin',\n",
              " 'Canavan, Mr. Patrick',\n",
              " 'Andersson, Master. Sigvard Harald Elias',\n",
              " 'Compton, Mr. Alexander Taylor Jr',\n",
              " 'Warren, Mrs. Frank Manley (Anna Sophia Atkinson)',\n",
              " 'Bourke, Miss. Mary',\n",
              " 'Henriksson, Miss. Jenny Lovisa',\n",
              " 'McCaffry, Mr. Thomas Francis',\n",
              " 'Collander, Mr. Erik Gustaf',\n",
              " 'Rothes, the Countess. of (Lucy Noel Martha Dyer-Edwards)',\n",
              " 'Brown, Mrs. John Murray (Caroline Lane Lamson)',\n",
              " 'Moubarek, Master. Gerios',\n",
              " 'Maenpaa, Mr. Matti Alexanteri',\n",
              " 'del Carlo, Mrs. Sebastiano (Argenia Genovesi)',\n",
              " 'Palsson, Mrs. Nils (Alma Cornelia Berglund)',\n",
              " 'Palsson, Miss. Torborg Danira',\n",
              " 'Hart, Mr. Henry',\n",
              " 'Chronopoulos, Mr. Demetrios',\n",
              " 'Kelly, Mrs. Florence \"Fannie\"',\n",
              " 'Abelson, Mr. Samuel',\n",
              " 'Andersson, Miss. Ida Augusta Margareta',\n",
              " 'McMahon, Mr. Martin',\n",
              " 'Midtsjo, Mr. Karl Albert',\n",
              " 'Moubarek, Mrs. George (Omine Amenia\" Alexander)\"',\n",
              " 'Sage, Mr. Frederick',\n",
              " 'Albimona, Mr. Nassef Cassem',\n",
              " 'Dintcheff, Mr. Valtcho',\n",
              " 'Kink, Mr. Vincenz',\n",
              " 'Sdycoff, Mr. Todor',\n",
              " 'Skoog, Master. Karl Thorsten',\n",
              " 'Hold, Mrs. Stephen (Annie Margaret Hill)',\n",
              " 'Clarke, Mr. Charles Valentine',\n",
              " 'Hellstrom, Miss. Hilda Maria',\n",
              " 'Rheims, Mr. George Alexander Lucien',\n",
              " 'Pearce, Mr. Ernest',\n",
              " 'Daly, Mr. Eugene Patrick',\n",
              " 'Asplund, Miss. Lillian Gertrud',\n",
              " 'Rosblom, Mrs. Viktor (Helena Wilhelmina)',\n",
              " 'Sap, Mr. Julius',\n",
              " 'O\\'Leary, Miss. Hanora \"Norah\"',\n",
              " 'Cameron, Miss. Clear Annie',\n",
              " 'Dorking, Mr. Edward Arthur',\n",
              " 'Rosblom, Miss. Salli Helena',\n",
              " 'Kimball, Mrs. Edwin Nelson Jr (Gertrude Parsons)',\n",
              " 'Drapkin, Miss. Jennie',\n",
              " 'Andersson, Miss. Ebba Iris Alfrida',\n",
              " 'Ryan, Mr. Edward',\n",
              " 'Parker, Mr. Clifford Richard',\n",
              " 'Lester, Mr. James',\n",
              " 'Lennon, Mr. Denis',\n",
              " 'Lam, Mr. Len',\n",
              " 'Goodwin, Master. Harold Victor',\n",
              " 'Chaudanson, Miss. Victorine',\n",
              " 'Clarke, Mrs. Charles V (Ada Maria Winfield)',\n",
              " 'Hickman, Mr. Leonard Mark',\n",
              " 'Rugg, Miss. Emily',\n",
              " 'Slocovski, Mr. Selman Francis',\n",
              " 'Douglas, Mrs. Frederick Charles (Mary Helene Baxter)',\n",
              " 'Canavan, Miss. Mary',\n",
              " 'Howard, Mr. Benjamin',\n",
              " 'Aks, Mrs. Sam (Leah Rosen)',\n",
              " 'Devaney, Miss. Margaret Delia',\n",
              " 'Payne, Mr. Vivian Ponsonby',\n",
              " 'Hart, Miss. Eva Miriam',\n",
              " 'Bidois, Miss. Rosalie',\n",
              " 'Beattie, Mr. Thomson',\n",
              " 'Anderson, Mr. Harry',\n",
              " 'Harrison, Mr. William',\n",
              " 'Palsson, Master. Paul Folke',\n",
              " 'Dean, Mr. Bertram Frank',\n",
              " 'Spencer, Mrs. William Augustus (Marie Eugenie)',\n",
              " 'Hickman, Mr. Lewis',\n",
              " 'Ashby, Mr. John',\n",
              " 'Olsen, Mr. Henry Margido',\n",
              " 'Spedden, Mr. Frederic Oakley',\n",
              " 'Dean, Miss. Elizabeth Gladys Millvina\"\"',\n",
              " 'Funk, Miss. Annie Clemmer',\n",
              " 'Karun, Mr. Franz',\n",
              " 'Goldsmith, Mr. Nathan',\n",
              " 'Howard, Mrs. Benjamin (Ellen Truelove Arman)',\n",
              " 'Lefebre, Miss. Jeannie',\n",
              " 'Smyth, Miss. Julia',\n",
              " 'Carver, Mr. Alfred John',\n",
              " 'Natsch, Mr. Charles H',\n",
              " 'Myles, Mr. Thomas Francis',\n",
              " 'Cotterill, Mr. Henry Harry\"\"',\n",
              " 'Keane, Mr. Andrew \"Andy\"',\n",
              " 'Lindell, Mr. Edvard Bengtsson',\n",
              " 'Cunningham, Mr. Alfred Fleming',\n",
              " 'Campbell, Mr. William',\n",
              " 'Goodwin, Mrs. Frederick (Augusta Tyler)',\n",
              " 'Assaf Khalil, Mrs. Mariana (Miriam\")\"',\n",
              " 'Mardirosian, Mr. Sarkis',\n",
              " 'Hedman, Mr. Oskar Arvid',\n",
              " 'Bjornstrom-Steffansson, Mr. Mauritz Hakan',\n",
              " 'Thayer, Mr. John Borland',\n",
              " 'Cribb, Miss. Laura Alice',\n",
              " 'Fillbrook, Mr. Joseph Charles',\n",
              " 'Hoyt, Mrs. Frederick Maxfield (Jane Anne Forby)',\n",
              " 'Watson, Mr. Ennis Hastings',\n",
              " 'Salomon, Mr. Abraham L',\n",
              " 'Rosenbaum, Miss. Edith Louise',\n",
              " 'Badman, Miss. Emily Louisa',\n",
              " 'Oreskovic, Miss. Marija',\n",
              " 'Turcin, Mr. Stjepan',\n",
              " 'Makinen, Mr. Kalle Edvard',\n",
              " 'Radeff, Mr. Alexander',\n",
              " 'Baumann, Mr. John D',\n",
              " 'Nourney, Mr. Alfred (Baron von Drachstedt\")\"',\n",
              " 'Davies, Master. John Morgan Jr',\n",
              " 'Harper, Mr. Henry Sleeper',\n",
              " 'Brown, Miss. Amelia \"Mildred\"',\n",
              " 'Caram, Mr. Joseph',\n",
              " 'Gee, Mr. Arthur H',\n",
              " 'Stoytcheff, Mr. Ilia',\n",
              " 'Hassab, Mr. Hammad',\n",
              " 'White, Mr. Percival Wayland',\n",
              " 'Richards, Mrs. Sidney (Emily Hocking)',\n",
              " 'Geiger, Miss. Amalie',\n",
              " 'Watt, Miss. Bertha J',\n",
              " 'Cacic, Mr. Luka',\n",
              " 'Ryerson, Master. John Borie',\n",
              " 'Aks, Master. Philip Frank',\n",
              " 'Peter, Mrs. Catherine (Catherine Rizk)',\n",
              " 'Beesley, Mr. Lawrence',\n",
              " 'Sirota, Mr. Maurice',\n",
              " 'Fry, Mr. Richard',\n",
              " 'Peacock, Mrs. Benjamin (Edith Nile)',\n",
              " 'Johnston, Miss. Catherine Helen \"Carrie\"',\n",
              " 'Tomlin, Mr. Ernest Portage',\n",
              " 'Naughton, Miss. Hannah',\n",
              " 'Gustafsson, Mr. Alfred Ossian',\n",
              " 'Corbett, Mrs. Walter H (Irene Colvin)',\n",
              " 'Zabour, Miss. Hileni',\n",
              " 'Andrew, Mr. Edgardo Samuel',\n",
              " 'Jones, Mr. Charles Cresson',\n",
              " 'Hoyt, Mr. Frederick Maxfield',\n",
              " 'Nirva, Mr. Iisakki Antino Aijo',\n",
              " 'Bucknell, Mrs. William Robert (Emma Eliza Ward)',\n",
              " 'Lindell, Mrs. Edvard Bengtsson (Elin Gerda Persson)',\n",
              " 'Morley, Mr. William',\n",
              " 'Brown, Mrs. James Joseph (Margaret Tobin)',\n",
              " 'Murphy, Miss. Nora',\n",
              " 'Thomas, Mr. John',\n",
              " 'Markun, Mr. Johann',\n",
              " 'Panula, Master. Juha Niilo',\n",
              " 'Gale, Mr. Harry',\n",
              " 'Pickard, Mr. Berk (Berk Trembisky)',\n",
              " 'West, Miss. Constance Mirium',\n",
              " 'Elias, Mr. Joseph Jr',\n",
              " 'Hays, Mrs. Charles Melville (Clara Jennings Gregg)',\n",
              " 'Louch, Mr. Charles Alexander',\n",
              " 'Lobb, Mrs. William Arthur (Cordelia K Stanlick)',\n",
              " 'Bostandyeff, Mr. Guentcho',\n",
              " 'Ismay, Mr. Joseph Bruce',\n",
              " 'Bissette, Miss. Amelia',\n",
              " 'Frauenthal, Mr. Isaac Gerald',\n",
              " 'Taylor, Mr. Elmer Zebley',\n",
              " 'Dimic, Mr. Jovan',\n",
              " 'Hakkarainen, Mrs. Pekka Pietari (Elin Matilda Dolck)',\n",
              " 'Van der hoef, Mr. Wyckoff',\n",
              " 'Kink, Miss. Maria',\n",
              " 'Klasen, Miss. Gertrud Emilia',\n",
              " 'Earnshaw, Mrs. Boulton (Olive Potter)',\n",
              " 'Cherry, Miss. Gladys',\n",
              " 'Carter, Rev. Ernest Courtenay',\n",
              " 'Hippach, Miss. Jean Gertrude',\n",
              " 'Samaan, Mr. Hanna',\n",
              " 'Andreasson, Mr. Paul Edvin',\n",
              " 'Birnbaum, Mr. Jakob',\n",
              " 'Clark, Mrs. Walter Miller (Virginia McDowell)',\n",
              " 'Tenglin, Mr. Gunnar Isidor',\n",
              " 'Perreault, Miss. Anne',\n",
              " 'Andrews, Mr. Thomas Jr',\n",
              " 'Johnson, Mr. Malkolm Joackim',\n",
              " 'Morrow, Mr. Thomas Rowan',\n",
              " 'Pekoniemi, Mr. Edvard',\n",
              " 'Bailey, Mr. Percy Andrew',\n",
              " 'Peacock, Miss. Treasteall',\n",
              " 'de Mulder, Mr. Theodore',\n",
              " 'Jermyn, Miss. Annie',\n",
              " 'Persson, Mr. Ernst Ulrik',\n",
              " 'Scanlan, Mr. James',\n",
              " 'Phillips, Mr. Escott Robert',\n",
              " 'Eklund, Mr. Hans Linus',\n",
              " 'Parkes, Mr. Francis \"Frank\"',\n",
              " 'Nasser, Mrs. Nicholas (Adele Achem)',\n",
              " 'Meyer, Mr. Edgar Joseph',\n",
              " 'Everett, Mr. Thomas James',\n",
              " 'Frolicher, Miss. Hedwig Margaritha',\n",
              " 'Arnold-Franchi, Mr. Josef',\n",
              " 'Stengel, Mr. Charles Emil Henry',\n",
              " 'Ayoub, Miss. Banoura',\n",
              " 'Asplund, Mrs. Carl Oscar (Selma Augusta Emilia Johansson)',\n",
              " 'Case, Mr. Howard Brown',\n",
              " 'Bentham, Miss. Lilian W',\n",
              " 'Lefebre, Miss. Ida',\n",
              " 'Collyer, Mr. Harvey',\n",
              " 'Reeves, Mr. David',\n",
              " 'Sobey, Mr. Samuel James Hayden',\n",
              " 'Bengtsson, Mr. John Viktor',\n",
              " 'Nysveen, Mr. Johan Hansen',\n",
              " \"O'Donoghue, Ms. Bridget\",\n",
              " 'Davidson, Mrs. Thornton (Orian Hays)',\n",
              " 'Osen, Mr. Olaf Elon',\n",
              " 'Partner, Mr. Austen',\n",
              " 'Henry, Miss. Delia',\n",
              " 'Goldsmith, Master. Frank John William \"Frankie\"',\n",
              " 'Razi, Mr. Raihed',\n",
              " 'Enander, Mr. Ingvar',\n",
              " 'Andersson, Mr. Johan Samuel',\n",
              " 'Asplund, Master. Carl Edgar',\n",
              " 'Artagaveytia, Mr. Ramon',\n",
              " 'Thomas, Mrs. Alexander (Thamine Thelma\")\"',\n",
              " 'Stokes, Mr. Philip Joseph',\n",
              " 'Ringhini, Mr. Sante',\n",
              " 'Wenzel, Mr. Linhart',\n",
              " 'Wells, Miss. Joan',\n",
              " 'Schmidt, Mr. August',\n",
              " 'Wright, Mr. George',\n",
              " 'Olsen, Master. Artur Karl',\n",
              " 'Foley, Mr. William',\n",
              " 'Abelson, Mrs. Samuel (Hannah Wizosky)',\n",
              " 'Woolner, Mr. Hugh',\n",
              " 'Dick, Mrs. Albert Adrian (Vera Gillespie)',\n",
              " 'Barber, Miss. Ellen \"Nellie\"',\n",
              " 'Lahtinen, Rev. William',\n",
              " 'Hamalainen, Mrs. William (Anna)',\n",
              " 'Sagesser, Mlle. Emma',\n",
              " 'Laroche, Miss. Simonne Marie Anne Andree',\n",
              " 'Renouf, Mr. Peter Henry',\n",
              " 'Minkoff, Mr. Lazar',\n",
              " 'Edvardsson, Mr. Gustaf Hjalmar',\n",
              " 'Kallio, Mr. Nikolai Erland',\n",
              " 'Christy, Mrs. (Alice Frances)',\n",
              " 'Lundin, Miss. Olga Elida',\n",
              " 'Keane, Miss. Nora A',\n",
              " 'Ford, Miss. Robina Maggie \"Ruby\"',\n",
              " 'Asplund, Mr. Johan Charles',\n",
              " 'Graham, Mr. George Edward',\n",
              " 'McDermott, Miss. Brigdet Delia',\n",
              " 'Drew, Mr. James Vivian',\n",
              " 'Pavlovic, Mr. Stefo',\n",
              " 'Badt, Mr. Mohamed',\n",
              " 'Abbott, Master. Eugene Joseph',\n",
              " 'Barbara, Mrs. (Catherine David)',\n",
              " 'Frauenthal, Mrs. Henry William (Clara Heinsheimer)',\n",
              " 'Dennis, Mr. Samuel',\n",
              " 'Krekorian, Mr. Neshan',\n",
              " 'Meanwell, Miss. (Marion Ogden)',\n",
              " 'West, Miss. Barbara J',\n",
              " 'Coleridge, Mr. Reginald Charles',\n",
              " 'Wiseman, Mr. Phillippe',\n",
              " 'Sinkkonen, Miss. Anna',\n",
              " 'Backstrom, Mrs. Karl Alfred (Maria Mathilda Gustafsson)',\n",
              " 'Connaghton, Mr. Michael',\n",
              " 'Smiljanic, Mr. Mile',\n",
              " 'Goldschmidt, Mr. George B',\n",
              " 'Hirvonen, Mrs. Alexander (Helga E Lindqvist)',\n",
              " 'Cavendish, Mrs. Tyrell William (Julia Florence Siegel)',\n",
              " 'Troupiansky, Mr. Moses Aaron',\n",
              " 'Slayter, Miss. Hilda Mary',\n",
              " 'Oliva y Ocana, Dona. Fermina',\n",
              " 'Christmann, Mr. Emil',\n",
              " 'Collyer, Miss. Marjorie \"Lottie\"',\n",
              " 'Najib, Miss. Adele Kiamie \"Jane\"',\n",
              " 'Brady, Mr. John Bertram',\n",
              " 'Lindblom, Miss. Augusta Charlotta',\n",
              " 'Alhomaki, Mr. Ilmari Rudolf',\n",
              " 'Zakarian, Mr. Mapriededer',\n",
              " 'Lindqvist, Mr. Eino William',\n",
              " 'Sage, Miss. Ada',\n",
              " 'Serepeca, Miss. Augusta',\n",
              " 'Chambers, Mr. Norman Campbell',\n",
              " 'Spedden, Master. Robert Douglas',\n",
              " 'Thomas, Mr. Tannous',\n",
              " 'Clifford, Mr. George Quincy',\n",
              " 'Nosworthy, Mr. Richard Cater',\n",
              " 'Carlsson, Mr. August Sigfrid',\n",
              " 'Betros, Mr. Tannous',\n",
              " 'Svensson, Mr. Johan',\n",
              " 'Stahelin-Maeglin, Dr. Max',\n",
              " 'Watt, Mrs. James (Elizabeth \"Bessie\" Inglis Milne)',\n",
              " 'Minahan, Mrs. William Edward (Lillian E Thorpe)',\n",
              " 'Williams, Mr. Richard Norris II',\n",
              " 'Bryhl, Mr. Kurt Arnold Gottfrid',\n",
              " 'Ilett, Miss. Bertha',\n",
              " 'Harper, Miss. Annie Jessie \"Nina\"',\n",
              " 'Gheorgheff, Mr. Stanio',\n",
              " 'Angle, Mr. William A',\n",
              " 'Reed, Mr. James George',\n",
              " 'Gibson, Miss. Dorothy Winifred',\n",
              " 'Todoroff, Mr. Lalio',\n",
              " 'Salonen, Mr. Johan Werner',\n",
              " 'Kink-Heilmann, Mrs. Anton (Luise Heilmann)',\n",
              " 'Lines, Miss. Mary Conover',\n",
              " 'Bonnell, Miss. Caroline',\n",
              " 'Wheeler, Mr. Edwin Frederick\"\"',\n",
              " 'Dibden, Mr. William',\n",
              " 'Fleming, Miss. Margaret',\n",
              " 'Harper, Mrs. Henry Sleeper (Myna Haxtun)',\n",
              " 'Meek, Mrs. Thomas (Annie Louise Rowley)',\n",
              " \"O'Driscoll, Miss. Bridget\",\n",
              " 'Fischer, Mr. Eberhard Thelander',\n",
              " 'Beane, Mrs. Edward (Ethel Clarke)',\n",
              " 'Davies, Mr. Alfred J',\n",
              " 'Carter, Mr. William Ernest',\n",
              " 'Moen, Mr. Sigurd Hansen',\n",
              " 'Goldenberg, Mrs. Samuel L (Edwiga Grabowska)',\n",
              " 'van Billiard, Master. James William',\n",
              " 'Otter, Mr. Richard',\n",
              " 'Hosono, Mr. Masabumi',\n",
              " 'Touma, Miss. Maria Youssef',\n",
              " 'Danbom, Mrs. Ernst Gilbert (Anna Sigrid Maria Brogren)',\n",
              " 'Andersson, Miss. Ingeborg Constanzia',\n",
              " 'Jussila, Mr. Eiriik',\n",
              " 'Chip, Mr. Chang',\n",
              " 'Pinsky, Mrs. (Rosa)',\n",
              " 'Beavan, Mr. William Thomas',\n",
              " 'Torber, Mr. Ernst William',\n",
              " 'Osman, Mrs. Mara',\n",
              " 'Andersson, Mr. August Edvard (\"Wennerstrom\")',\n",
              " 'Yousif, Mr. Wazli',\n",
              " 'Hagland, Mr. Konrad Mathias Reiersen',\n",
              " 'Rice, Master. Eric',\n",
              " 'Ross, Mr. John Hugo',\n",
              " 'Widener, Mr. George Dunton',\n",
              " 'Carter, Mrs. Ernest Courtenay (Lilian Hughes)',\n",
              " 'Gustafsson, Mr. Anders Vilhelm',\n",
              " 'Head, Mr. Christopher',\n",
              " 'Maioni, Miss. Roberta',\n",
              " 'Lehmann, Miss. Bertha',\n",
              " 'Williams-Lambert, Mr. Fletcher Fellows',\n",
              " 'Molson, Mr. Harry Markland',\n",
              " 'Lindstrom, Mrs. Carl Johan (Sigrid Posse)',\n",
              " 'Troutt, Miss. Edwina Celia \"Winnie\"',\n",
              " 'Eustis, Miss. Elizabeth Mussey',\n",
              " 'Franklin, Mr. Charles (Charles Fardon)',\n",
              " 'Hocking, Mr. Samuel James Metcalfe',\n",
              " 'Barkworth, Mr. Algernon Henry Wilson',\n",
              " 'Ilmakangas, Miss. Pieta Sofia',\n",
              " 'Riordan, Miss. Johanna Hannah\"\"',\n",
              " 'Lamb, Mr. John Joseph',\n",
              " 'Jonsson, Mr. Carl',\n",
              " 'Long, Mr. Milton Clyde',\n",
              " 'Kiernan, Mr. John',\n",
              " 'Carr, Miss. Helen \"Ellen\"',\n",
              " 'Cavendish, Mr. Tyrell William',\n",
              " 'Hipkins, Mr. William Edward',\n",
              " 'Milling, Mr. Jacob Christian',\n",
              " 'Goodwin, Miss. Lillian Amy',\n",
              " 'Greenberg, Mr. Samuel',\n",
              " 'Nicholson, Mr. Arthur Ernest',\n",
              " 'Marvin, Mr. Daniel Warner',\n",
              " 'Leinonen, Mr. Antti Gustaf',\n",
              " 'Abbing, Mr. Anthony',\n",
              " 'Daniel, Mr. Robert Williams',\n",
              " 'Hakkarainen, Mr. Pekka Pietari',\n",
              " 'Sage, Miss. Constance Gladys',\n",
              " 'Bowen, Miss. Grace Scott',\n",
              " 'Beane, Mr. Edward',\n",
              " 'Goldenberg, Mr. Samuel L',\n",
              " 'Sutehall, Mr. Henry Jr',\n",
              " 'Danbom, Mr. Ernst Gilbert',\n",
              " 'Laleff, Mr. Kristo',\n",
              " 'Sage, Mr. John George',\n",
              " 'Knight, Mr. Robert J',\n",
              " 'Sivic, Mr. Husein',\n",
              " 'Goodwin, Mr. Charles Frederick',\n",
              " 'Williams, Mr. Charles Duane',\n",
              " 'Becker, Master. Richard F',\n",
              " 'Klasen, Mr. Klas Albin',\n",
              " 'Swift, Mrs. Frederick Joel (Margaret Welles Barron)',\n",
              " 'Saad, Mr. Amin',\n",
              " 'Jefferys, Mr. Ernest Wilfred',\n",
              " 'Greenfield, Mr. William Bertram',\n",
              " 'Barry, Miss. Julia',\n",
              " 'Sunderland, Mr. Victor Francis',\n",
              " 'Emanuel, Miss. Virginia Ethel',\n",
              " 'Becker, Mrs. Allen Oliver (Nellie E Baumgardner)',\n",
              " 'McCarthy, Mr. Timothy J',\n",
              " 'Attalah, Miss. Malake',\n",
              " 'Webber, Miss. Susan',\n",
              " 'Madsen, Mr. Fridtjof Arne',\n",
              " 'Thomson, Mr. Alexander Morrison',\n",
              " 'Andersson, Miss. Sigrid Elisabeth',\n",
              " 'Bryhl, Miss. Dagmar Jenny Ingeborg ',\n",
              " 'Asim, Mr. Adola',\n",
              " 'Phillips, Miss. Alice Frances Louisa',\n",
              " 'Yousseff, Mr. Gerious',\n",
              " 'Mudd, Mr. Thomas Charles',\n",
              " 'Rogers, Mr. William John',\n",
              " 'Crafton, Mr. John Bertram',\n",
              " 'Rintamaki, Mr. Matti',\n",
              " 'Lyntakoff, Mr. Stanko',\n",
              " 'Strilic, Mr. Ivan',\n",
              " 'Straus, Mrs. Isidor (Rosalie Ida Blun)',\n",
              " 'Becker, Miss. Marion Louise',\n",
              " 'Farrell, Mr. James',\n",
              " 'Graham, Mrs. William Thompson (Edith Junkins)',\n",
              " 'Harris, Mrs. Henry Birkhardt (Irene Wallach)',\n",
              " 'McNamee, Mr. Neal',\n",
              " 'Beckwith, Mr. Richard Leonard',\n",
              " 'Simonius-Blumer, Col. Oberst Alfons',\n",
              " 'Hocking, Mrs. Elizabeth (Eliza Needs)',\n",
              " 'Ford, Mrs. Edward (Margaret Ann Watson)',\n",
              " 'Olsson, Mr. Nils Johan Goransson',\n",
              " 'Robins, Mrs. Alexander A (Grace Charity Laury)',\n",
              " 'Karlsson, Mr. Einar Gervasius',\n",
              " 'Jensen, Mr. Niels Peder',\n",
              " 'Davies, Mr. Charles Henry',\n",
              " 'Johansson Palmquist, Mr. Oskar Leander',\n",
              " 'Jacobsohn, Mr. Sidney Samuel',\n",
              " 'Pallas y Castello, Mr. Emilio',\n",
              " 'Thorne, Mrs. Gertrude Maybelle',\n",
              " 'Hyman, Mr. Abraham',\n",
              " 'Hassan, Mr. Houssein G N',\n",
              " 'Karlsson, Mr. Nils August',\n",
              " 'Patchett, Mr. George',\n",
              " 'Doling, Miss. Elsie',\n",
              " 'Nicholls, Mr. Joseph Charles',\n",
              " 'Daly, Miss. Margaret Marcella Maggie\"\"',\n",
              " 'Greenfield, Mrs. Leo David (Blanche Strouse)',\n",
              " 'Kantor, Mrs. Sinai (Miriam Sternin)',\n",
              " 'Weisz, Mrs. Leopold (Mathilde Francoise Pede)',\n",
              " 'Jensen, Mr. Svend Lauritz',\n",
              " 'Jardin, Mr. Jose Neto',\n",
              " 'Wick, Miss. Mary Natalie',\n",
              " 'Reynaldo, Ms. Encarnacion',\n",
              " 'West, Mrs. Edwy Arthur (Ada Mary Worth)',\n",
              " 'Laitinen, Miss. Kristina Sofia',\n",
              " 'Calderhead, Mr. Edward Pennington',\n",
              " 'McCoy, Miss. Alicia',\n",
              " 'Kreuchen, Miss. Emilie',\n",
              " 'Andrew, Mr. Frank Thomas',\n",
              " 'Rosblom, Mr. Viktor Richard',\n",
              " 'Giglio, Mr. Victor',\n",
              " 'Vanden Steen, Mr. Leo Peter',\n",
              " 'Gale, Mr. Shadrach',\n",
              " 'Caram, Mrs. Joseph (Maria Elias)',\n",
              " 'Reuchlin, Jonkheer. John George',\n",
              " 'Chaffee, Mr. Herbert Fuller',\n",
              " 'Lam, Mr. Ali',\n",
              " 'Hiltunen, Miss. Marta',\n",
              " 'Thorneycroft, Mr. Percival',\n",
              " 'Gilnagh, Miss. Katherine \"Katie\"',\n",
              " 'Laroche, Mrs. Joseph (Juliette Marie Louise Lafargue)',\n",
              " 'Gustafsson, Mr. Karl Gideon',\n",
              " 'de Messemaeker, Mrs. Guillaume Joseph (Emma)',\n",
              " 'Bing, Mr. Lee',\n",
              " 'Connolly, Miss. Kate',\n",
              " 'Lemberopolous, Mr. Peter L',\n",
              " 'Youseff, Mr. Gerious',\n",
              " 'Gilinski, Mr. Eliezer',\n",
              " 'Downton, Mr. William James',\n",
              " 'Gilbert, Mr. William',\n",
              " 'Mallet, Mr. Albert',\n",
              " 'Coleff, Mr. Satio',\n",
              " 'Richard, Mr. Emile',\n",
              " 'Allison, Mr. Hudson Joshua Creighton',\n",
              " 'Fahlstrom, Mr. Arne Jonas',\n",
              " 'Taussig, Miss. Ruth',\n",
              " 'Kennedy, Mr. John',\n",
              " 'Kirkland, Rev. Charles Leonard',\n",
              " 'Thomas, Mr. Charles P',\n",
              " 'Leonard, Mr. Lionel',\n",
              " 'Brown, Mr. Thomas William Solomon',\n",
              " 'Mock, Mr. Philipp Edmund',\n",
              " 'Allen, Mr. William Henry',\n",
              " 'Abelseth, Mr. Olaus Jorgensen',\n",
              " 'Ford, Mr. Edward Watson',\n",
              " ...}"
            ]
          },
          "metadata": {
            "tags": []
          },
          "execution_count": 18
        }
      ]
    },
    {
      "cell_type": "code",
      "metadata": {
        "id": "Plor3JdB9CKw"
      },
      "source": [
        ""
      ],
      "execution_count": 18,
      "outputs": []
    },
    {
      "cell_type": "code",
      "metadata": {
        "colab": {
          "base_uri": "https://localhost:8080/"
        },
        "id": "EJZqfZ2y8p7e",
        "outputId": "09a9e807-aae0-4075-f1fa-8144b3b110cc"
      },
      "source": [
        "train_data['NameParts'] = [len(v.split(' ')) for v in train_data['Name']]\n",
        "train_data['NameParts'][:5]"
      ],
      "execution_count": 19,
      "outputs": [
        {
          "output_type": "execute_result",
          "data": {
            "text/plain": [
              "0    4\n",
              "1    7\n",
              "2    3\n",
              "3    7\n",
              "4    4\n",
              "Name: NameParts, dtype: int64"
            ]
          },
          "metadata": {
            "tags": []
          },
          "execution_count": 19
        }
      ]
    },
    {
      "cell_type": "code",
      "metadata": {
        "colab": {
          "base_uri": "https://localhost:8080/",
          "height": 337
        },
        "id": "QyCB2GRO_TeT",
        "outputId": "0a7de472-878c-43a9-fada-846edeae3b6c"
      },
      "source": [
        "sns.heatmap(train_data.corr(), cmap='viridis', annot=True)"
      ],
      "execution_count": 20,
      "outputs": [
        {
          "output_type": "execute_result",
          "data": {
            "text/plain": [
              "<matplotlib.axes._subplots.AxesSubplot at 0x7f37806ecb10>"
            ]
          },
          "metadata": {
            "tags": []
          },
          "execution_count": 20
        },
        {
          "output_type": "display_data",
          "data": {
            "image/png": "[encoded data removed]",
            "text/plain": [
              "<Figure size 432x288 with 2 Axes>"
            ]
          },
          "metadata": {
            "tags": [],
            "needs_background": "light"
          }
        }
      ]
    },
    {
      "cell_type": "code",
      "metadata": {
        "id": "27YKoIij_Tbt"
      },
      "source": [
        ""
      ],
      "execution_count": 20,
      "outputs": []
    },
    {
      "cell_type": "markdown",
      "metadata": {
        "id": "7Q7p6n39iWP8"
      },
      "source": [
        "Cabins"
      ]
    },
    {
      "cell_type": "code",
      "metadata": {
        "id": "Pf9xcrU2_TZY",
        "colab": {
          "base_uri": "https://localhost:8080/"
        },
        "outputId": "bdd09f6b-1b4f-461b-f156-3239a9e896cd"
      },
      "source": [
        "len([re.sub('\\d', '', v)[0] if type(v) == str else 'Z' for v in data['Cabin']]) == len(data['Cabin'])"
      ],
      "execution_count": 21,
      "outputs": [
        {
          "output_type": "execute_result",
          "data": {
            "text/plain": [
              "True"
            ]
          },
          "metadata": {
            "tags": []
          },
          "execution_count": 21
        }
      ]
    },
    {
      "cell_type": "code",
      "metadata": {
        "id": "ZypRFFDe_TRN",
        "colab": {
          "base_uri": "https://localhost:8080/"
        },
        "outputId": "9dcbaba7-6ecd-4754-9abb-4ca04edcba90"
      },
      "source": [
        "train_data['CabinLvl'] = [ord(re.sub('\\d', '', v)[0]) if type(v) == str else ord('Z') for v in train_data['Cabin']]\n",
        "train_data['CabinLvl'][:5]"
      ],
      "execution_count": 22,
      "outputs": [
        {
          "output_type": "execute_result",
          "data": {
            "text/plain": [
              "0    90\n",
              "1    67\n",
              "2    90\n",
              "3    67\n",
              "4    90\n",
              "Name: CabinLvl, dtype: int64"
            ]
          },
          "metadata": {
            "tags": []
          },
          "execution_count": 22
        }
      ]
    },
    {
      "cell_type": "code",
      "metadata": {
        "colab": {
          "base_uri": "https://localhost:8080/",
          "height": 337
        },
        "id": "G09A2ikGf64z",
        "outputId": "d8f2c112-a8f6-44a5-bd3d-07128a0145ee"
      },
      "source": [
        "sns.heatmap(train_data.corr(), cmap='viridis', annot=True)"
      ],
      "execution_count": 23,
      "outputs": [
        {
          "output_type": "execute_result",
          "data": {
            "text/plain": [
              "<matplotlib.axes._subplots.AxesSubplot at 0x7f37804c9290>"
            ]
          },
          "metadata": {
            "tags": []
          },
          "execution_count": 23
        },
        {
          "output_type": "display_data",
          "data": {
            "image/png": "[encoded data removed]",
            "text/plain": [
              "<Figure size 432x288 with 2 Axes>"
            ]
          },
          "metadata": {
            "tags": [],
            "needs_background": "light"
          }
        }
      ]
    },
    {
      "cell_type": "code",
      "metadata": {
        "colab": {
          "base_uri": "https://localhost:8080/"
        },
        "id": "H_EzNtf7f8X_",
        "outputId": "781de9b2-3173-494d-d32f-24e67ee751e7"
      },
      "source": [
        "print(train_data.corr()['CabinLvl']['Pclass'])\n",
        "train_data.drop('CabinLvl', axis=1, inplace=True)\n",
        "train_data.columns"
      ],
      "execution_count": 24,
      "outputs": [
        {
          "output_type": "stream",
          "text": [
            "0.735383132372392\n"
          ],
          "name": "stdout"
        },
        {
          "output_type": "execute_result",
          "data": {
            "text/plain": [
              "Index(['PassengerId', 'Survived', 'Pclass', 'Name', 'Sex', 'Age', 'SibSp',\n",
              "       'Parch', 'Ticket', 'Fare', 'Cabin', 'Embarked', 'NameParts'],\n",
              "      dtype='object')"
            ]
          },
          "metadata": {
            "tags": []
          },
          "execution_count": 24
        }
      ]
    },
    {
      "cell_type": "code",
      "metadata": {
        "colab": {
          "base_uri": "https://localhost:8080/"
        },
        "id": "yU7sLnFzg0jj",
        "outputId": "d8ca4416-1998-4c5e-d1b1-b1aa20d3096b"
      },
      "source": [
        "len([len(re.sub('[a-zA-Z]', '', v).lstrip().split(' ')) if type(v) == str else 0 for v in data['Cabin']]) == len(data)"
      ],
      "execution_count": 25,
      "outputs": [
        {
          "output_type": "execute_result",
          "data": {
            "text/plain": [
              "True"
            ]
          },
          "metadata": {
            "tags": []
          },
          "execution_count": 25
        }
      ]
    },
    {
      "cell_type": "code",
      "metadata": {
        "id": "CfflFjkXiiDn"
      },
      "source": [
        "train_data['CabinsLen'] = [len(re.sub('[a-zA-Z]', '', v).lstrip().split(' ')) if type(v) == str else 0 for v in train_data['Cabin']]"
      ],
      "execution_count": 26,
      "outputs": []
    },
    {
      "cell_type": "code",
      "metadata": {
        "colab": {
          "base_uri": "https://localhost:8080/",
          "height": 337
        },
        "id": "n_xxNB_6j5D4",
        "outputId": "f0e48234-f40a-41a0-a202-0c4b035a9994"
      },
      "source": [
        "sns.heatmap(train_data.corr(), cmap='viridis', annot=True)"
      ],
      "execution_count": 27,
      "outputs": [
        {
          "output_type": "execute_result",
          "data": {
            "text/plain": [
              "<matplotlib.axes._subplots.AxesSubplot at 0x7f3780354150>"
            ]
          },
          "metadata": {
            "tags": []
          },
          "execution_count": 27
        },
        {
          "output_type": "display_data",
          "data": {
            "image/png": "[encoded data removed]",
            "text/plain": [
              "<Figure size 432x288 with 2 Axes>"
            ]
          },
          "metadata": {
            "tags": [],
            "needs_background": "light"
          }
        }
      ]
    },
    {
      "cell_type": "code",
      "metadata": {
        "colab": {
          "base_uri": "https://localhost:8080/"
        },
        "id": "47HFRaIaj-sE",
        "outputId": "236034ff-5900-4cfa-e600-8330929c0650"
      },
      "source": [
        "print(train_data.corr()['CabinsLen']['Fare'])\n",
        "train_data.drop('CabinsLen', axis=1 ,inplace=True)\n",
        "train_data.columns"
      ],
      "execution_count": 28,
      "outputs": [
        {
          "output_type": "stream",
          "text": [
            "0.6110605749082296\n"
          ],
          "name": "stdout"
        },
        {
          "output_type": "execute_result",
          "data": {
            "text/plain": [
              "Index(['PassengerId', 'Survived', 'Pclass', 'Name', 'Sex', 'Age', 'SibSp',\n",
              "       'Parch', 'Ticket', 'Fare', 'Cabin', 'Embarked', 'NameParts'],\n",
              "      dtype='object')"
            ]
          },
          "metadata": {
            "tags": []
          },
          "execution_count": 28
        }
      ]
    },
    {
      "cell_type": "code",
      "metadata": {
        "colab": {
          "base_uri": "https://localhost:8080/"
        },
        "id": "CKBRwFJAkKXT",
        "outputId": "caaee7a8-f160-4e19-f9a1-316530dca1e0"
      },
      "source": [
        "[v for v in data['Cabin'] if type(v) == str and re.sub('[a-zA-Z]', '', v).lstrip().split(' ')[0] == '']"
      ],
      "execution_count": 29,
      "outputs": [
        {
          "output_type": "execute_result",
          "data": {
            "text/plain": [
              "['D', 'D', 'T', 'D', 'F', 'D']"
            ]
          },
          "metadata": {
            "tags": []
          },
          "execution_count": 29
        }
      ]
    },
    {
      "cell_type": "code",
      "metadata": {
        "colab": {
          "base_uri": "https://localhost:8080/"
        },
        "id": "GM_GrdvlkVy4",
        "outputId": "99c89c67-8557-4c2b-c572-1cde828c828c"
      },
      "source": [
        "prepared = [re.sub('[a-zA-Z]', '', v).lstrip().split(' ')[0] if type(v) == str else '' for v in data['Cabin']]\n",
        "len([int(v) if v != '' else 0 for v in prepared]) == len(data)"
      ],
      "execution_count": 30,
      "outputs": [
        {
          "output_type": "execute_result",
          "data": {
            "text/plain": [
              "True"
            ]
          },
          "metadata": {
            "tags": []
          },
          "execution_count": 30
        }
      ]
    },
    {
      "cell_type": "code",
      "metadata": {
        "id": "I6zUHsVMlItO"
      },
      "source": [
        "prepared = [re.sub('[a-zA-Z]', '', v).lstrip().split(' ')[0] if type(v) == str else '' for v in train_data['Cabin']]\n",
        "train_data['CabinNum'] = [int(v) if v != '' else 0 for v in prepared]"
      ],
      "execution_count": 31,
      "outputs": []
    },
    {
      "cell_type": "code",
      "metadata": {
        "colab": {
          "base_uri": "https://localhost:8080/",
          "height": 337
        },
        "id": "b6ZvTujKlfHy",
        "outputId": "096654a7-10df-4c69-e726-381579c24f29"
      },
      "source": [
        "sns.heatmap(train_data.corr(), cmap='viridis', annot=True)"
      ],
      "execution_count": 32,
      "outputs": [
        {
          "output_type": "execute_result",
          "data": {
            "text/plain": [
              "<matplotlib.axes._subplots.AxesSubplot at 0x7f37802391d0>"
            ]
          },
          "metadata": {
            "tags": []
          },
          "execution_count": 32
        },
        {
          "output_type": "display_data",
          "data": {
            "image/png": "[encoded data removed]",
            "text/plain": [
              "<Figure size 432x288 with 2 Axes>"
            ]
          },
          "metadata": {
            "tags": [],
            "needs_background": "light"
          }
        }
      ]
    },
    {
      "cell_type": "code",
      "metadata": {
        "id": "HVw7rqjEliXq"
      },
      "source": [
        ""
      ],
      "execution_count": 32,
      "outputs": []
    },
    {
      "cell_type": "markdown",
      "metadata": {
        "id": "s5JbR8J-qJCh"
      },
      "source": [
        "Tickets"
      ]
    },
    {
      "cell_type": "code",
      "metadata": {
        "colab": {
          "base_uri": "https://localhost:8080/"
        },
        "id": "pH-O0XDUr6Sx",
        "outputId": "76624f96-9d0b-4ec8-b094-fae326aa6e71"
      },
      "source": [
        "[v for v in data['Ticket'] if ' ' in v][:20]"
      ],
      "execution_count": 33,
      "outputs": [
        {
          "output_type": "execute_result",
          "data": {
            "text/plain": [
              "['A/5 21171',\n",
              " 'PC 17599',\n",
              " 'STON/O2. 3101282',\n",
              " 'PP 9549',\n",
              " 'A/5. 2151',\n",
              " 'PC 17601',\n",
              " 'PC 17569',\n",
              " 'C.A. 24579',\n",
              " 'PC 17604',\n",
              " 'A./5. 2152',\n",
              " 'SC/Paris 2123',\n",
              " 'S.C./A.4. 23567',\n",
              " 'A/4. 39886',\n",
              " 'PC 17572',\n",
              " 'C.A. 31026',\n",
              " 'C.A. 34651',\n",
              " 'CA 2144',\n",
              " 'PC 17605',\n",
              " 'C.A. 29395',\n",
              " 'S.P. 3464']"
            ]
          },
          "metadata": {
            "tags": []
          },
          "execution_count": 33
        }
      ]
    },
    {
      "cell_type": "code",
      "metadata": {
        "colab": {
          "base_uri": "https://localhost:8080/"
        },
        "id": "6dXFibUQqJ5b",
        "outputId": "910c6d82-e3b1-473c-fb68-530efcd4abfd"
      },
      "source": [
        "prepared = [re.sub('\\D', '', v).lstrip().split(' ')[0] if type(v) == str else '' for v in data['Ticket']]\n",
        "# prepared[:50]\n",
        "[int(v) if v != '' else 0 for v in prepared][:20]"
      ],
      "execution_count": 34,
      "outputs": [
        {
          "output_type": "execute_result",
          "data": {
            "text/plain": [
              "[521171,\n",
              " 17599,\n",
              " 23101282,\n",
              " 113803,\n",
              " 373450,\n",
              " 330877,\n",
              " 17463,\n",
              " 349909,\n",
              " 347742,\n",
              " 237736,\n",
              " 9549,\n",
              " 113783,\n",
              " 52151,\n",
              " 347082,\n",
              " 350406,\n",
              " 248706,\n",
              " 382652,\n",
              " 244373,\n",
              " 345763,\n",
              " 2649]"
            ]
          },
          "metadata": {
            "tags": []
          },
          "execution_count": 34
        }
      ]
    },
    {
      "cell_type": "code",
      "metadata": {
        "colab": {
          "base_uri": "https://localhost:8080/"
        },
        "id": "8I7gxpz5qQdW",
        "outputId": "e5aef43f-7e42-49e5-aeb4-00b2c563763c"
      },
      "source": [
        "len([int(v) if v != '' else 0 for v in prepared]) == len(data)"
      ],
      "execution_count": 35,
      "outputs": [
        {
          "output_type": "execute_result",
          "data": {
            "text/plain": [
              "True"
            ]
          },
          "metadata": {
            "tags": []
          },
          "execution_count": 35
        }
      ]
    },
    {
      "cell_type": "code",
      "metadata": {
        "id": "8hY--VONqpTE"
      },
      "source": [
        "prepared = [re.sub('\\D', '', v).lstrip().split(' ')[0] if type(v) == str else '' for v in train_data['Ticket']]\n",
        "train_data['TicketNum'] = [int(v) if v != '' else 0 for v in prepared]"
      ],
      "execution_count": 36,
      "outputs": []
    },
    {
      "cell_type": "code",
      "metadata": {
        "colab": {
          "base_uri": "https://localhost:8080/",
          "height": 337
        },
        "id": "Hh8YBfFurDC6",
        "outputId": "830272f5-483a-4be0-9ed7-5a238a23faf2"
      },
      "source": [
        "sns.heatmap(train_data.corr(), cmap='viridis', annot=True)"
      ],
      "execution_count": 37,
      "outputs": [
        {
          "output_type": "execute_result",
          "data": {
            "text/plain": [
              "<matplotlib.axes._subplots.AxesSubplot at 0x7f378015ce10>"
            ]
          },
          "metadata": {
            "tags": []
          },
          "execution_count": 37
        },
        {
          "output_type": "display_data",
          "data": {
            "image/png": "[encoded data removed]",
            "text/plain": [
              "<Figure size 432x288 with 2 Axes>"
            ]
          },
          "metadata": {
            "tags": [],
            "needs_background": "light"
          }
        }
      ]
    },
    {
      "cell_type": "code",
      "metadata": {
        "colab": {
          "base_uri": "https://localhost:8080/"
        },
        "id": "oLzdstylrF9M",
        "outputId": "d50a03ff-714b-4318-9ab9-e5b54d2c34d5"
      },
      "source": [
        "train_data.corr()['Survived']"
      ],
      "execution_count": 38,
      "outputs": [
        {
          "output_type": "execute_result",
          "data": {
            "text/plain": [
              "PassengerId   -0.005007\n",
              "Survived       1.000000\n",
              "Pclass        -0.338481\n",
              "Age           -0.077221\n",
              "SibSp         -0.035322\n",
              "Parch          0.081629\n",
              "Fare           0.257307\n",
              "NameParts      0.278520\n",
              "CabinNum       0.229756\n",
              "TicketNum     -0.015615\n",
              "Name: Survived, dtype: float64"
            ]
          },
          "metadata": {
            "tags": []
          },
          "execution_count": 38
        }
      ]
    },
    {
      "cell_type": "code",
      "metadata": {
        "id": "gI-020ZurRU6"
      },
      "source": [
        ""
      ],
      "execution_count": 38,
      "outputs": []
    },
    {
      "cell_type": "markdown",
      "metadata": {
        "id": "sdhSwoHcarWB"
      },
      "source": [
        "Names - titles"
      ]
    },
    {
      "cell_type": "code",
      "metadata": {
        "colab": {
          "base_uri": "https://localhost:8080/",
          "height": 363
        },
        "id": "l19Wh1UvcKLf",
        "outputId": "b29f189e-9a87-4563-d55c-59bda88bfe4d"
      },
      "source": [
        "data[['Name', 'Age']][[True if not np.isnan(v) and v < 10 else False for v in data['Age']]][:10]"
      ],
      "execution_count": 39,
      "outputs": [
        {
          "output_type": "execute_result",
          "data": {
            "text/html": [
              "<div>\n",
              "<style scoped>\n",
              "    .dataframe tbody tr th:only-of-type {\n",
              "        vertical-align: middle;\n",
              "    }\n",
              "\n",
              "    .dataframe tbody tr th {\n",
              "        vertical-align: top;\n",
              "    }\n",
              "\n",
              "    .dataframe thead th {\n",
              "        text-align: right;\n",
              "    }\n",
              "</style>\n",
              "<table border=\"1\" class=\"dataframe\">\n",
              "  <thead>\n",
              "    <tr style=\"text-align: right;\">\n",
              "      <th></th>\n",
              "      <th>Name</th>\n",
              "      <th>Age</th>\n",
              "    </tr>\n",
              "  </thead>\n",
              "  <tbody>\n",
              "    <tr>\n",
              "      <th>7</th>\n",
              "      <td>Palsson, Master. Gosta Leonard</td>\n",
              "      <td>2.00</td>\n",
              "    </tr>\n",
              "    <tr>\n",
              "      <th>10</th>\n",
              "      <td>Sandstrom, Miss. Marguerite Rut</td>\n",
              "      <td>4.00</td>\n",
              "    </tr>\n",
              "    <tr>\n",
              "      <th>16</th>\n",
              "      <td>Rice, Master. Eugene</td>\n",
              "      <td>2.00</td>\n",
              "    </tr>\n",
              "    <tr>\n",
              "      <th>24</th>\n",
              "      <td>Palsson, Miss. Torborg Danira</td>\n",
              "      <td>8.00</td>\n",
              "    </tr>\n",
              "    <tr>\n",
              "      <th>43</th>\n",
              "      <td>Laroche, Miss. Simonne Marie Anne Andree</td>\n",
              "      <td>3.00</td>\n",
              "    </tr>\n",
              "    <tr>\n",
              "      <th>50</th>\n",
              "      <td>Panula, Master. Juha Niilo</td>\n",
              "      <td>7.00</td>\n",
              "    </tr>\n",
              "    <tr>\n",
              "      <th>58</th>\n",
              "      <td>West, Miss. Constance Mirium</td>\n",
              "      <td>5.00</td>\n",
              "    </tr>\n",
              "    <tr>\n",
              "      <th>63</th>\n",
              "      <td>Skoog, Master. Harald</td>\n",
              "      <td>4.00</td>\n",
              "    </tr>\n",
              "    <tr>\n",
              "      <th>78</th>\n",
              "      <td>Caldwell, Master. Alden Gates</td>\n",
              "      <td>0.83</td>\n",
              "    </tr>\n",
              "    <tr>\n",
              "      <th>119</th>\n",
              "      <td>Andersson, Miss. Ellis Anna Maria</td>\n",
              "      <td>2.00</td>\n",
              "    </tr>\n",
              "  </tbody>\n",
              "</table>\n",
              "</div>"
            ],
            "text/plain": [
              "                                         Name   Age\n",
              "7              Palsson, Master. Gosta Leonard  2.00\n",
              "10            Sandstrom, Miss. Marguerite Rut  4.00\n",
              "16                       Rice, Master. Eugene  2.00\n",
              "24              Palsson, Miss. Torborg Danira  8.00\n",
              "43   Laroche, Miss. Simonne Marie Anne Andree  3.00\n",
              "50                 Panula, Master. Juha Niilo  7.00\n",
              "58               West, Miss. Constance Mirium  5.00\n",
              "63                      Skoog, Master. Harald  4.00\n",
              "78              Caldwell, Master. Alden Gates  0.83\n",
              "119         Andersson, Miss. Ellis Anna Maria  2.00"
            ]
          },
          "metadata": {
            "tags": []
          },
          "execution_count": 39
        }
      ]
    },
    {
      "cell_type": "code",
      "metadata": {
        "colab": {
          "base_uri": "https://localhost:8080/"
        },
        "id": "wpgU8Eu7EZqv",
        "outputId": "8448a31f-b06b-4809-cd6c-efca98685622"
      },
      "source": [
        "set([v for v in data['Name'] if len(re.findall('(\\w+)\\.', v)) > 1])"
      ],
      "execution_count": 40,
      "outputs": [
        {
          "output_type": "execute_result",
          "data": {
            "text/plain": [
              "{'Rothschild, Mrs. Martin (Elizabeth L. Barrett)'}"
            ]
          },
          "metadata": {
            "tags": []
          },
          "execution_count": 40
        }
      ]
    },
    {
      "cell_type": "code",
      "metadata": {
        "id": "b9lykoJZjug1"
      },
      "source": [
        "def get_title(v):\n",
        "  return re.search('(\\w+)\\.', v)[0]"
      ],
      "execution_count": 41,
      "outputs": []
    },
    {
      "cell_type": "code",
      "metadata": {
        "id": "1lSK6ScGGVJC"
      },
      "source": [
        "from collections import Counter"
      ],
      "execution_count": 63,
      "outputs": []
    },
    {
      "cell_type": "code",
      "metadata": {
        "colab": {
          "base_uri": "https://localhost:8080/"
        },
        "id": "6_m0sEykGaCv",
        "outputId": "c931fa5b-6393-438e-a2d2-c510c5fd2221"
      },
      "source": [
        "counts = Counter([get_title(v) for v in data['Name']])#, key = lambda x: x[1])\n",
        "title_categoriess = sorted(set(get_title(v) for v in data['Name']), key=counts.get, reverse=True)\n",
        "print(title_categoriess)"
      ],
      "execution_count": 91,
      "outputs": [
        {
          "output_type": "stream",
          "text": [
            "['Mr.', 'Miss.', 'Mrs.', 'Master.', 'Dr.', 'Rev.', 'Col.', 'Mlle.', 'Ms.', 'Major.', 'Jonkheer.', 'Dona.', 'Capt.', 'Mme.', 'Countess.', 'Don.', 'Sir.', 'Lady.']\n"
          ],
          "name": "stdout"
        }
      ]
    },
    {
      "cell_type": "code",
      "metadata": {
        "colab": {
          "base_uri": "https://localhost:8080/"
        },
        "id": "H7TLn63TbOjF",
        "outputId": "c20eb968-14be-430a-ac5b-0c4154b8b2a0"
      },
      "source": [
        "titles = {t: i for i, t in enumerate(title_categoriess)}\n",
        "titles"
      ],
      "execution_count": 92,
      "outputs": [
        {
          "output_type": "execute_result",
          "data": {
            "text/plain": [
              "{'Capt.': 12,\n",
              " 'Col.': 6,\n",
              " 'Countess.': 14,\n",
              " 'Don.': 15,\n",
              " 'Dona.': 11,\n",
              " 'Dr.': 4,\n",
              " 'Jonkheer.': 10,\n",
              " 'Lady.': 17,\n",
              " 'Major.': 9,\n",
              " 'Master.': 3,\n",
              " 'Miss.': 1,\n",
              " 'Mlle.': 7,\n",
              " 'Mme.': 13,\n",
              " 'Mr.': 0,\n",
              " 'Mrs.': 2,\n",
              " 'Ms.': 8,\n",
              " 'Rev.': 5,\n",
              " 'Sir.': 16}"
            ]
          },
          "metadata": {
            "tags": []
          },
          "execution_count": 92
        }
      ]
    },
    {
      "cell_type": "code",
      "metadata": {
        "colab": {
          "base_uri": "https://localhost:8080/"
        },
        "id": "aMeikJQYe5vu",
        "outputId": "b9acdd1d-8a5d-44ec-e0c3-396f257259e9"
      },
      "source": [
        "len([titles[get_title(v)] for v in data['Name']]) == len(data)"
      ],
      "execution_count": 93,
      "outputs": [
        {
          "output_type": "execute_result",
          "data": {
            "text/plain": [
              "True"
            ]
          },
          "metadata": {
            "tags": []
          },
          "execution_count": 93
        }
      ]
    },
    {
      "cell_type": "code",
      "metadata": {
        "colab": {
          "base_uri": "https://localhost:8080/",
          "height": 258
        },
        "id": "Lm74-dCnjqC6",
        "outputId": "61196c44-89a9-4000-8323-b363822cc69e"
      },
      "source": [
        "train_data['Title'] = [titles[get_title(v)] for v in train_data['Name']]\n",
        "train_data.head()"
      ],
      "execution_count": 94,
      "outputs": [
        {
          "output_type": "execute_result",
          "data": {
            "text/html": [
              "<div>\n",
              "<style scoped>\n",
              "    .dataframe tbody tr th:only-of-type {\n",
              "        vertical-align: middle;\n",
              "    }\n",
              "\n",
              "    .dataframe tbody tr th {\n",
              "        vertical-align: top;\n",
              "    }\n",
              "\n",
              "    .dataframe thead th {\n",
              "        text-align: right;\n",
              "    }\n",
              "</style>\n",
              "<table border=\"1\" class=\"dataframe\">\n",
              "  <thead>\n",
              "    <tr style=\"text-align: right;\">\n",
              "      <th></th>\n",
              "      <th>PassengerId</th>\n",
              "      <th>Survived</th>\n",
              "      <th>Pclass</th>\n",
              "      <th>Name</th>\n",
              "      <th>Sex</th>\n",
              "      <th>Age</th>\n",
              "      <th>SibSp</th>\n",
              "      <th>Parch</th>\n",
              "      <th>Ticket</th>\n",
              "      <th>Fare</th>\n",
              "      <th>Cabin</th>\n",
              "      <th>Embarked</th>\n",
              "      <th>NameParts</th>\n",
              "      <th>CabinNum</th>\n",
              "      <th>TicketNum</th>\n",
              "      <th>Title</th>\n",
              "    </tr>\n",
              "  </thead>\n",
              "  <tbody>\n",
              "    <tr>\n",
              "      <th>0</th>\n",
              "      <td>1</td>\n",
              "      <td>0</td>\n",
              "      <td>3</td>\n",
              "      <td>Braund, Mr. Owen Harris</td>\n",
              "      <td>male</td>\n",
              "      <td>22.0</td>\n",
              "      <td>1</td>\n",
              "      <td>0</td>\n",
              "      <td>A/5 21171</td>\n",
              "      <td>7.2500</td>\n",
              "      <td>NaN</td>\n",
              "      <td>S</td>\n",
              "      <td>4</td>\n",
              "      <td>0</td>\n",
              "      <td>521171</td>\n",
              "      <td>0</td>\n",
              "    </tr>\n",
              "    <tr>\n",
              "      <th>1</th>\n",
              "      <td>2</td>\n",
              "      <td>1</td>\n",
              "      <td>1</td>\n",
              "      <td>Cumings, Mrs. John Bradley (Florence Briggs Th...</td>\n",
              "      <td>female</td>\n",
              "      <td>38.0</td>\n",
              "      <td>1</td>\n",
              "      <td>0</td>\n",
              "      <td>PC 17599</td>\n",
              "      <td>71.2833</td>\n",
              "      <td>C85</td>\n",
              "      <td>C</td>\n",
              "      <td>7</td>\n",
              "      <td>85</td>\n",
              "      <td>17599</td>\n",
              "      <td>2</td>\n",
              "    </tr>\n",
              "    <tr>\n",
              "      <th>2</th>\n",
              "      <td>3</td>\n",
              "      <td>1</td>\n",
              "      <td>3</td>\n",
              "      <td>Heikkinen, Miss. Laina</td>\n",
              "      <td>female</td>\n",
              "      <td>26.0</td>\n",
              "      <td>0</td>\n",
              "      <td>0</td>\n",
              "      <td>STON/O2. 3101282</td>\n",
              "      <td>7.9250</td>\n",
              "      <td>NaN</td>\n",
              "      <td>S</td>\n",
              "      <td>3</td>\n",
              "      <td>0</td>\n",
              "      <td>23101282</td>\n",
              "      <td>1</td>\n",
              "    </tr>\n",
              "    <tr>\n",
              "      <th>3</th>\n",
              "      <td>4</td>\n",
              "      <td>1</td>\n",
              "      <td>1</td>\n",
              "      <td>Futrelle, Mrs. Jacques Heath (Lily May Peel)</td>\n",
              "      <td>female</td>\n",
              "      <td>35.0</td>\n",
              "      <td>1</td>\n",
              "      <td>0</td>\n",
              "      <td>113803</td>\n",
              "      <td>53.1000</td>\n",
              "      <td>C123</td>\n",
              "      <td>S</td>\n",
              "      <td>7</td>\n",
              "      <td>123</td>\n",
              "      <td>113803</td>\n",
              "      <td>2</td>\n",
              "    </tr>\n",
              "    <tr>\n",
              "      <th>4</th>\n",
              "      <td>5</td>\n",
              "      <td>0</td>\n",
              "      <td>3</td>\n",
              "      <td>Allen, Mr. William Henry</td>\n",
              "      <td>male</td>\n",
              "      <td>35.0</td>\n",
              "      <td>0</td>\n",
              "      <td>0</td>\n",
              "      <td>373450</td>\n",
              "      <td>8.0500</td>\n",
              "      <td>NaN</td>\n",
              "      <td>S</td>\n",
              "      <td>4</td>\n",
              "      <td>0</td>\n",
              "      <td>373450</td>\n",
              "      <td>0</td>\n",
              "    </tr>\n",
              "  </tbody>\n",
              "</table>\n",
              "</div>"
            ],
            "text/plain": [
              "   PassengerId  Survived  Pclass  ... CabinNum TicketNum  Title\n",
              "0            1         0       3  ...        0    521171      0\n",
              "1            2         1       1  ...       85     17599      2\n",
              "2            3         1       3  ...        0  23101282      1\n",
              "3            4         1       1  ...      123    113803      2\n",
              "4            5         0       3  ...        0    373450      0\n",
              "\n",
              "[5 rows x 16 columns]"
            ]
          },
          "metadata": {
            "tags": []
          },
          "execution_count": 94
        }
      ]
    },
    {
      "cell_type": "code",
      "metadata": {
        "colab": {
          "base_uri": "https://localhost:8080/",
          "height": 337
        },
        "id": "YocjC84PkD4l",
        "outputId": "a8b64ff4-b463-4ab1-9604-62a5ae8442b9"
      },
      "source": [
        "sns.heatmap(train_data.corr(), cmap='viridis', annot=True)"
      ],
      "execution_count": 95,
      "outputs": [
        {
          "output_type": "execute_result",
          "data": {
            "text/plain": [
              "<matplotlib.axes._subplots.AxesSubplot at 0x7f3779487090>"
            ]
          },
          "metadata": {
            "tags": []
          },
          "execution_count": 95
        },
        {
          "output_type": "display_data",
          "data": {
            "image/png": "[encoded data removed]",
            "text/plain": [
              "<Figure size 432x288 with 2 Axes>"
            ]
          },
          "metadata": {
            "tags": [],
            "needs_background": "light"
          }
        }
      ]
    },
    {
      "cell_type": "code",
      "metadata": {
        "colab": {
          "base_uri": "https://localhost:8080/"
        },
        "id": "kYxaV3wv2Wwd",
        "outputId": "52a4e567-125f-4935-871e-9331c99fb393"
      },
      "source": [
        "train_data.corr()['Survived']['Title'], train_data.corr()['Survived']['NameParts'], train_data.corr()['Title']['NameParts']"
      ],
      "execution_count": 96,
      "outputs": [
        {
          "output_type": "execute_result",
          "data": {
            "text/plain": [
              "(0.2956450638467556, 0.27852011305098023, 0.3165181411661414)"
            ]
          },
          "metadata": {
            "tags": []
          },
          "execution_count": 96
        }
      ]
    },
    {
      "cell_type": "code",
      "metadata": {
        "id": "2KN66c4e2WuH"
      },
      "source": [
        ""
      ],
      "execution_count": 96,
      "outputs": []
    },
    {
      "cell_type": "code",
      "metadata": {
        "id": "KyiHDtT7kXau"
      },
      "source": [
        "from sklearn.preprocessing import OrdinalEncoder\n",
        "enc = OrdinalEncoder(handle_unknown='use_encoded_value', unknown_value=-1)"
      ],
      "execution_count": 52,
      "outputs": []
    },
    {
      "cell_type": "code",
      "metadata": {
        "id": "VILZXV7RkXX4",
        "colab": {
          "base_uri": "https://localhost:8080/"
        },
        "outputId": "0b1222b3-ebde-476e-a0dd-3107238f33bc"
      },
      "source": [
        "enc.fit(np.array([get_title(v) for v in train_data['Name']]).reshape(-1, 1))\n",
        "print(enc.categories_)\n",
        "# np.unique(enc.transform(np.array([get_title(v) for v in train_data['Name']]).reshape(-1, 1)))\n",
        "enc.transform(np.array([get_title(v) for v in test_data['Name']]).reshape(-1, 1))[:5]"
      ],
      "execution_count": 54,
      "outputs": [
        {
          "output_type": "stream",
          "text": [
            "[array(['Capt.', 'Col.', 'Countess.', 'Don.', 'Dr.', 'Jonkheer.', 'Lady.',\n",
            "       'Major.', 'Master.', 'Miss.', 'Mlle.', 'Mme.', 'Mr.', 'Mrs.',\n",
            "       'Ms.', 'Rev.', 'Sir.'], dtype='<U9')]\n"
          ],
          "name": "stdout"
        },
        {
          "output_type": "execute_result",
          "data": {
            "text/plain": [
              "array([[12.],\n",
              "       [13.],\n",
              "       [12.],\n",
              "       [12.],\n",
              "       [13.]])"
            ]
          },
          "metadata": {
            "tags": []
          },
          "execution_count": 54
        }
      ]
    },
    {
      "cell_type": "code",
      "metadata": {
        "id": "O7KxAEvy2X2h"
      },
      "source": [
        ""
      ],
      "execution_count": null,
      "outputs": []
    }
  ]
}