{
 "cells": [
  {
   "cell_type": "code",
   "execution_count": 1,
   "id": "c54c1015",
   "metadata": {},
   "outputs": [],
   "source": [
    "import numpy as np\n",
    "import pandas as pd"
   ]
  },
  {
   "cell_type": "code",
   "execution_count": 2,
   "id": "21b8955e",
   "metadata": {},
   "outputs": [],
   "source": [
    "from sklearn.impute import SimpleImputer\n",
    "from sklearn.pipeline import Pipeline, make_pipeline\n",
    "from sklearn.compose import make_column_transformer\n",
    "from sklearn.preprocessing import StandardScaler\n",
    "from sklearn.base import BaseEstimator, TransformerMixin, ClassifierMixin\n",
    "from sklearn.model_selection import train_test_split"
   ]
  },
  {
   "cell_type": "code",
   "execution_count": 3,
   "id": "1e11be10",
   "metadata": {},
   "outputs": [],
   "source": [
    "random_state = 100"
   ]
  },
  {
   "cell_type": "code",
   "execution_count": 4,
   "id": "0a2ddd7a",
   "metadata": {},
   "outputs": [
    {
     "name": "stdout",
     "output_type": "stream",
     "text": [
      "(7648, 23) (7648,) (7648,)\n"
     ]
    },
    {
     "data": {
      "text/html": [
       "<div>\n",
       "<style scoped>\n",
       "    .dataframe tbody tr th:only-of-type {\n",
       "        vertical-align: middle;\n",
       "    }\n",
       "\n",
       "    .dataframe tbody tr th {\n",
       "        vertical-align: top;\n",
       "    }\n",
       "\n",
       "    .dataframe thead th {\n",
       "        text-align: right;\n",
       "    }\n",
       "</style>\n",
       "<table border=\"1\" class=\"dataframe\">\n",
       "  <thead>\n",
       "    <tr style=\"text-align: right;\">\n",
       "      <th></th>\n",
       "      <th>station</th>\n",
       "      <th>Date</th>\n",
       "      <th>Present_Tmax</th>\n",
       "      <th>Present_Tmin</th>\n",
       "      <th>LDAPS_RHmin</th>\n",
       "      <th>LDAPS_RHmax</th>\n",
       "      <th>LDAPS_Tmax_lapse</th>\n",
       "      <th>LDAPS_Tmin_lapse</th>\n",
       "      <th>LDAPS_WS</th>\n",
       "      <th>LDAPS_LH</th>\n",
       "      <th>...</th>\n",
       "      <th>LDAPS_CC4</th>\n",
       "      <th>LDAPS_PPT1</th>\n",
       "      <th>LDAPS_PPT2</th>\n",
       "      <th>LDAPS_PPT3</th>\n",
       "      <th>LDAPS_PPT4</th>\n",
       "      <th>lat</th>\n",
       "      <th>lon</th>\n",
       "      <th>DEM</th>\n",
       "      <th>Slope</th>\n",
       "      <th>Solar radiation</th>\n",
       "    </tr>\n",
       "  </thead>\n",
       "  <tbody>\n",
       "    <tr>\n",
       "      <th>0</th>\n",
       "      <td>1.0</td>\n",
       "      <td>2013-06-30</td>\n",
       "      <td>28.7</td>\n",
       "      <td>21.4</td>\n",
       "      <td>58.255688</td>\n",
       "      <td>91.116364</td>\n",
       "      <td>28.074101</td>\n",
       "      <td>23.006936</td>\n",
       "      <td>6.818887</td>\n",
       "      <td>69.451805</td>\n",
       "      <td>...</td>\n",
       "      <td>0.130928</td>\n",
       "      <td>0.0</td>\n",
       "      <td>0.0</td>\n",
       "      <td>0.0</td>\n",
       "      <td>0.0</td>\n",
       "      <td>37.6046</td>\n",
       "      <td>126.991</td>\n",
       "      <td>212.3350</td>\n",
       "      <td>2.7850</td>\n",
       "      <td>5992.895996</td>\n",
       "    </tr>\n",
       "    <tr>\n",
       "      <th>1</th>\n",
       "      <td>2.0</td>\n",
       "      <td>2013-06-30</td>\n",
       "      <td>31.9</td>\n",
       "      <td>21.6</td>\n",
       "      <td>52.263397</td>\n",
       "      <td>90.604721</td>\n",
       "      <td>29.850689</td>\n",
       "      <td>24.035009</td>\n",
       "      <td>5.691890</td>\n",
       "      <td>51.937448</td>\n",
       "      <td>...</td>\n",
       "      <td>0.127727</td>\n",
       "      <td>0.0</td>\n",
       "      <td>0.0</td>\n",
       "      <td>0.0</td>\n",
       "      <td>0.0</td>\n",
       "      <td>37.6046</td>\n",
       "      <td>127.032</td>\n",
       "      <td>44.7624</td>\n",
       "      <td>0.5141</td>\n",
       "      <td>5869.312500</td>\n",
       "    </tr>\n",
       "    <tr>\n",
       "      <th>2</th>\n",
       "      <td>3.0</td>\n",
       "      <td>2013-06-30</td>\n",
       "      <td>31.6</td>\n",
       "      <td>23.3</td>\n",
       "      <td>48.690479</td>\n",
       "      <td>83.973587</td>\n",
       "      <td>30.091292</td>\n",
       "      <td>24.565633</td>\n",
       "      <td>6.138224</td>\n",
       "      <td>20.573050</td>\n",
       "      <td>...</td>\n",
       "      <td>0.142125</td>\n",
       "      <td>0.0</td>\n",
       "      <td>0.0</td>\n",
       "      <td>0.0</td>\n",
       "      <td>0.0</td>\n",
       "      <td>37.5776</td>\n",
       "      <td>127.058</td>\n",
       "      <td>33.3068</td>\n",
       "      <td>0.2661</td>\n",
       "      <td>5863.555664</td>\n",
       "    </tr>\n",
       "    <tr>\n",
       "      <th>3</th>\n",
       "      <td>4.0</td>\n",
       "      <td>2013-06-30</td>\n",
       "      <td>32.0</td>\n",
       "      <td>23.4</td>\n",
       "      <td>58.239788</td>\n",
       "      <td>96.483688</td>\n",
       "      <td>29.704629</td>\n",
       "      <td>23.326177</td>\n",
       "      <td>5.650050</td>\n",
       "      <td>65.727144</td>\n",
       "      <td>...</td>\n",
       "      <td>0.134249</td>\n",
       "      <td>0.0</td>\n",
       "      <td>0.0</td>\n",
       "      <td>0.0</td>\n",
       "      <td>0.0</td>\n",
       "      <td>37.6450</td>\n",
       "      <td>127.022</td>\n",
       "      <td>45.7160</td>\n",
       "      <td>2.5348</td>\n",
       "      <td>5856.964844</td>\n",
       "    </tr>\n",
       "    <tr>\n",
       "      <th>4</th>\n",
       "      <td>5.0</td>\n",
       "      <td>2013-06-30</td>\n",
       "      <td>31.4</td>\n",
       "      <td>21.9</td>\n",
       "      <td>56.174095</td>\n",
       "      <td>90.155128</td>\n",
       "      <td>29.113934</td>\n",
       "      <td>23.486480</td>\n",
       "      <td>5.735004</td>\n",
       "      <td>107.965535</td>\n",
       "      <td>...</td>\n",
       "      <td>0.170021</td>\n",
       "      <td>0.0</td>\n",
       "      <td>0.0</td>\n",
       "      <td>0.0</td>\n",
       "      <td>0.0</td>\n",
       "      <td>37.5507</td>\n",
       "      <td>127.135</td>\n",
       "      <td>35.0380</td>\n",
       "      <td>0.5055</td>\n",
       "      <td>5859.552246</td>\n",
       "    </tr>\n",
       "  </tbody>\n",
       "</table>\n",
       "<p>5 rows × 23 columns</p>\n",
       "</div>"
      ],
      "text/plain": [
       "   station       Date  Present_Tmax  Present_Tmin  LDAPS_RHmin  LDAPS_RHmax  \\\n",
       "0      1.0 2013-06-30          28.7          21.4    58.255688    91.116364   \n",
       "1      2.0 2013-06-30          31.9          21.6    52.263397    90.604721   \n",
       "2      3.0 2013-06-30          31.6          23.3    48.690479    83.973587   \n",
       "3      4.0 2013-06-30          32.0          23.4    58.239788    96.483688   \n",
       "4      5.0 2013-06-30          31.4          21.9    56.174095    90.155128   \n",
       "\n",
       "   LDAPS_Tmax_lapse  LDAPS_Tmin_lapse  LDAPS_WS    LDAPS_LH  ...  LDAPS_CC4  \\\n",
       "0         28.074101         23.006936  6.818887   69.451805  ...   0.130928   \n",
       "1         29.850689         24.035009  5.691890   51.937448  ...   0.127727   \n",
       "2         30.091292         24.565633  6.138224   20.573050  ...   0.142125   \n",
       "3         29.704629         23.326177  5.650050   65.727144  ...   0.134249   \n",
       "4         29.113934         23.486480  5.735004  107.965535  ...   0.170021   \n",
       "\n",
       "   LDAPS_PPT1  LDAPS_PPT2  LDAPS_PPT3  LDAPS_PPT4      lat      lon       DEM  \\\n",
       "0         0.0         0.0         0.0         0.0  37.6046  126.991  212.3350   \n",
       "1         0.0         0.0         0.0         0.0  37.6046  127.032   44.7624   \n",
       "2         0.0         0.0         0.0         0.0  37.5776  127.058   33.3068   \n",
       "3         0.0         0.0         0.0         0.0  37.6450  127.022   45.7160   \n",
       "4         0.0         0.0         0.0         0.0  37.5507  127.135   35.0380   \n",
       "\n",
       "    Slope  Solar radiation  \n",
       "0  2.7850      5992.895996  \n",
       "1  0.5141      5869.312500  \n",
       "2  0.2661      5863.555664  \n",
       "3  2.5348      5856.964844  \n",
       "4  0.5055      5859.552246  \n",
       "\n",
       "[5 rows x 23 columns]"
      ]
     },
     "execution_count": 4,
     "metadata": {},
     "output_type": "execute_result"
    }
   ],
   "source": [
    "data = pd.read_csv('Bias_correction_ucl.csv')\n",
    "data['Date'] = pd.to_datetime(data['Date'])\n",
    "\n",
    "data = data[data['Next_Tmax'].notnull() & data['Next_Tmin'].notnull()]\n",
    "data = data[data['Date'].notnull() & data['station'].notnull()]\n",
    "data = data[data['LDAPS_Tmax_lapse'].notnull() & data['LDAPS_Tmin_lapse'].notnull()]\n",
    "\n",
    "y_Tmax = data['Next_Tmax']\n",
    "y_Tmin = data['Next_Tmin']\n",
    "X = data.drop(['Next_Tmax', 'Next_Tmin'], axis='columns')\n",
    "print(X.shape, y_Tmax.shape, y_Tmin.shape)\n",
    "X.head()"
   ]
  },
  {
   "cell_type": "code",
   "execution_count": 5,
   "id": "1197bbef",
   "metadata": {},
   "outputs": [],
   "source": [
    "X_train, X_test, y_train, y_test = train_test_split(X, y_Tmax, test_size=0.2, shuffle=True, random_state=random_state)\n",
    "# X_train, X_valid, y_train, y_valid = train_test_split(X_train, y_train, test_size=0.2, shuffle=True, random_state=100)"
   ]
  },
  {
   "cell_type": "code",
   "execution_count": 6,
   "id": "fe42b7c9",
   "metadata": {},
   "outputs": [],
   "source": [
    "class MissingDataRowsDropper(BaseEstimator, TransformerMixin):\n",
    "    \n",
    "    def __init__(self, cols):\n",
    "        if cols is None:\n",
    "            cols = []\n",
    "        self.cols = cols\n",
    "        self.predicate = None\n",
    "    \n",
    "    def fit(self, X, y=None):\n",
    "        if any([v not in X.columns for v in self.cols]):\n",
    "            raise Exception(\"Wrong column name provided\")\n",
    "        self.predicate = X[self.cols].notnull().all(axis='columns')\n",
    "        return self\n",
    "    \n",
    "    def transform(self, X, y=None):\n",
    "        if self.predicate is None:\n",
    "            raise Exception(\"Have not been fed before transformation\")\n",
    "        if y:\n",
    "            return X[self.predicate], y[self.predicate]\n",
    "        return X[self.predicate]\n",
    "        "
   ]
  },
  {
   "cell_type": "code",
   "execution_count": 7,
   "id": "08236438",
   "metadata": {},
   "outputs": [],
   "source": [
    "preprocessing = make_pipeline(\n",
    "#     MissingDataRowsDropper(cols=['station', 'Date']), \n",
    "    make_column_transformer(\n",
    "         (SimpleImputer(strategy='median'), ['Present_Tmax', 'Present_Tmin', 'LDAPS_RHmin',\n",
    "       'LDAPS_RHmax', 'LDAPS_Tmax_lapse', 'LDAPS_Tmin_lapse', 'LDAPS_WS',\n",
    "       'LDAPS_LH', 'LDAPS_CC1', 'LDAPS_CC2', 'LDAPS_CC3', 'LDAPS_CC4',\n",
    "       'LDAPS_PPT1', 'LDAPS_PPT2', 'LDAPS_PPT3', 'LDAPS_PPT4'])\n",
    "    ),\n",
    "    StandardScaler()\n",
    ")"
   ]
  },
  {
   "cell_type": "code",
   "execution_count": 8,
   "id": "f975b241",
   "metadata": {},
   "outputs": [],
   "source": [
    "class BaseModel(BaseEstimator, ClassifierMixin):\n",
    "    \n",
    "    def __init__(self, to_predict):\n",
    "        if to_predict not in ['Next_Tmax', 'Next_Tmin']:\n",
    "            raise Exception('Unknown prediction type')\n",
    "        self.to_predict = to_predict\n",
    "    \n",
    "    def fit(self, X, y):\n",
    "        return self\n",
    "    \n",
    "    def predict(self, X):\n",
    "        if self.to_predict == 'Next_Tmax':\n",
    "            return X['LDAPS_Tmax_lapse']\n",
    "        else:\n",
    "            return X['LDAPS_Tmin_lapse']\n"
   ]
  },
  {
   "cell_type": "code",
   "execution_count": 26,
   "id": "fa33ec7c",
   "metadata": {},
   "outputs": [],
   "source": [
    "from sklearn.model_selection import GridSearchCV, RandomizedSearchCV, KFold\n",
    "from sklearn.linear_model import LinearRegression, Lasso, Ridge, ElasticNet\n",
    "from sklearn.svm import SVR\n",
    "from sklearn.ensemble import RandomForestRegressor"
   ]
  },
  {
   "cell_type": "code",
   "execution_count": 10,
   "id": "9e9d51c4",
   "metadata": {},
   "outputs": [],
   "source": [
    "k_fold = KFold(n_splits=5, shuffle=True, random_state=random_state)\n",
    "models = {}"
   ]
  },
  {
   "cell_type": "code",
   "execution_count": 11,
   "id": "0574666e",
   "metadata": {},
   "outputs": [],
   "source": [
    "model = Pipeline([\n",
    "    ('preprocessing', preprocessing), \n",
    "    ('regressor', LinearRegression())\n",
    "])\n",
    "\n",
    "model.fit(X_train, y_train)\n",
    "models['Linear'] = model"
   ]
  },
  {
   "cell_type": "code",
   "execution_count": 12,
   "id": "24cc8ccb",
   "metadata": {},
   "outputs": [
    {
     "name": "stdout",
     "output_type": "stream",
     "text": [
      "Fitting 5 folds for each of 5 candidates, totalling 25 fits\n",
      "{'regressor__alpha': 1}\n"
     ]
    }
   ],
   "source": [
    "model = Pipeline([\n",
    "    ('preprocessing', preprocessing), \n",
    "    ('regressor', Ridge())\n",
    "])\n",
    "params = {\n",
    "    'regressor__alpha': [0.1, 1, 10, 100, 1000]\n",
    "}\n",
    "\n",
    "grid = GridSearchCV(\n",
    "    estimator=model, \n",
    "    param_grid=params,\n",
    "    n_jobs=-1,\n",
    "    verbose=3,\n",
    "    cv=k_fold\n",
    ")\n",
    "grid.fit(X_train, y_train)\n",
    "print(grid.best_params_)\n",
    "models['Ridge'] = grid.best_estimator_"
   ]
  },
  {
   "cell_type": "code",
   "execution_count": 13,
   "id": "6889e11c",
   "metadata": {},
   "outputs": [
    {
     "name": "stdout",
     "output_type": "stream",
     "text": [
      "Fitting 5 folds for each of 7 candidates, totalling 35 fits\n",
      "{'regressor__alpha': 0.001}\n"
     ]
    }
   ],
   "source": [
    "model = Pipeline([\n",
    "    ('preprocessing', preprocessing), \n",
    "    ('regressor', Lasso())\n",
    "])\n",
    "params = {\n",
    "    'regressor__alpha': [1e-7, 1e-6, 1e-5, 1e-4, 1e-3, 1e-2, 1e-1]\n",
    "}\n",
    "\n",
    "grid = GridSearchCV(\n",
    "    estimator=model, \n",
    "    param_grid=params,\n",
    "    n_jobs=-1,\n",
    "    verbose=3,\n",
    "    cv=k_fold\n",
    ")\n",
    "grid.fit(X_train, y_train)\n",
    "print(grid.best_params_)\n",
    "models['Lasso'] = grid.best_estimator_"
   ]
  },
  {
   "cell_type": "code",
   "execution_count": 37,
   "id": "d1c6fc07",
   "metadata": {},
   "outputs": [
    {
     "name": "stdout",
     "output_type": "stream",
     "text": [
      "Fitting 5 folds for each of 3 candidates, totalling 15 fits\n",
      "{'regressor__C': 100.0}\n"
     ]
    }
   ],
   "source": [
    "model = Pipeline([\n",
    "    ('preprocessing', preprocessing), \n",
    "    ('regressor', SVR(kernel='rbf'))\n",
    "])\n",
    "params = {\n",
    "#     'regressor__kernel': ['rbf'],\n",
    "    'regressor__C': [1e-1, 1e1, 1e2]\n",
    "}\n",
    "\n",
    "grid = GridSearchCV(\n",
    "    estimator=model, \n",
    "    param_grid=params,\n",
    "    n_jobs=-1,\n",
    "    verbose=3,\n",
    "    cv=k_fold\n",
    ")\n",
    "grid.fit(X_train, y_train)\n",
    "print(grid.best_params_)\n",
    "models['SVR rbf'] = grid.best_estimator_"
   ]
  },
  {
   "cell_type": "code",
   "execution_count": 38,
   "id": "de6cb5c6",
   "metadata": {},
   "outputs": [
    {
     "name": "stdout",
     "output_type": "stream",
     "text": [
      "Fitting 5 folds for each of 5 candidates, totalling 25 fits\n",
      "{'regressor__C': 100.0}\n"
     ]
    }
   ],
   "source": [
    "model = Pipeline([\n",
    "    ('preprocessing', preprocessing), \n",
    "    ('regressor', SVR(kernel='linear'))\n",
    "])\n",
    "params = {\n",
    "    'regressor__C': [1e-3, 1e-2, 1e-1, 1e1, 1e2]\n",
    "}\n",
    "\n",
    "grid = GridSearchCV(\n",
    "    estimator=model, \n",
    "    param_grid=params,\n",
    "    n_jobs=-1,\n",
    "    verbose=3,\n",
    "    cv=k_fold\n",
    ")\n",
    "grid.fit(X_train, y_train)\n",
    "print(grid.best_params_)\n",
    "models['SVR linear'] = grid.best_estimator_"
   ]
  },
  {
   "cell_type": "code",
   "execution_count": 33,
   "id": "615f4c55",
   "metadata": {},
   "outputs": [
    {
     "name": "stdout",
     "output_type": "stream",
     "text": [
      "Fitting 5 folds for each of 100 candidates, totalling 500 fits\n",
      "{'regressor__max_leaf_nodes': 128, 'regressor__max_features': 0.4, 'regressor__max_depth': 16}\n"
     ]
    }
   ],
   "source": [
    "model = Pipeline([\n",
    "    ('preprocessing', preprocessing), \n",
    "    ('regressor', RandomForestRegressor())\n",
    "])\n",
    "params = {\n",
    "    'regressor__max_depth': [4, 6, 8, 16, 32, 64],\n",
    "    'regressor__max_features': [0.4, 0.5, 0.6, 0.7, 0.8, 0.9, 1.0],\n",
    "    'regressor__max_leaf_nodes': [8, 16, 32, 64, 128]\n",
    "}\n",
    "\n",
    "grid = RandomizedSearchCV(\n",
    "    estimator=model, \n",
    "    param_distributions=params,\n",
    "    n_jobs=-1,\n",
    "    verbose=3,\n",
    "    cv=k_fold,\n",
    "    n_iter=100\n",
    ")\n",
    "grid.fit(X_train, y_train)\n",
    "print(grid.best_params_)\n",
    "models['Random Forest'] = grid.best_estimator_"
   ]
  },
  {
   "cell_type": "markdown",
   "id": "a0dda78f",
   "metadata": {},
   "source": [
    "# Models evaluation"
   ]
  },
  {
   "cell_type": "code",
   "execution_count": 39,
   "id": "054d2b78",
   "metadata": {},
   "outputs": [],
   "source": [
    "from sklearn.metrics import mean_squared_error"
   ]
  },
  {
   "cell_type": "code",
   "execution_count": 40,
   "id": "34920067",
   "metadata": {},
   "outputs": [],
   "source": [
    "models['base_model'] = BaseModel('Next_Tmax')"
   ]
  },
  {
   "cell_type": "code",
   "execution_count": 41,
   "id": "11c3678c",
   "metadata": {},
   "outputs": [
    {
     "name": "stdout",
     "output_type": "stream",
     "text": [
      "Linear\n",
      "mean_squared_error: 2.2798476266027086\n",
      "Ridge\n",
      "mean_squared_error: 2.2798676964794\n",
      "Lasso\n",
      "mean_squared_error: 2.2800170896241574\n",
      "base_model\n",
      "mean_squared_error: 3.6321580125711477\n",
      "SVR\n",
      "mean_squared_error: 2.2950740683093915\n",
      "Random Forest\n",
      "mean_squared_error: 1.3955820748043255\n",
      "SVR rbf\n",
      "mean_squared_error: 0.823176584172425\n",
      "SVR linear\n",
      "mean_squared_error: 2.2950740683093915\n"
     ]
    }
   ],
   "source": [
    "for name, model in models.items():\n",
    "    print(name)\n",
    "    print(f'mean_squared_error: {mean_squared_error(model.predict(X_test), y_test)}')"
   ]
  },
  {
   "cell_type": "code",
   "execution_count": null,
   "id": "b7ac3afe",
   "metadata": {},
   "outputs": [],
   "source": []
  }
 ],
 "metadata": {
  "kernelspec": {
   "display_name": "Python 3",
   "language": "python",
   "name": "python3"
  },
  "language_info": {
   "codemirror_mode": {
    "name": "ipython",
    "version": 3
   },
   "file_extension": ".py",
   "mimetype": "text/x-python",
   "name": "python",
   "nbconvert_exporter": "python",
   "pygments_lexer": "ipython3",
   "version": "3.6.9"
  }
 },
 "nbformat": 4,
 "nbformat_minor": 5
}
